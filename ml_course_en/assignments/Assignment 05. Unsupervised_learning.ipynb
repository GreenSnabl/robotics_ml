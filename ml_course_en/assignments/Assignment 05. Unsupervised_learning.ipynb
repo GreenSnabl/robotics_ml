{
 "cells": [
  {
   "cell_type": "markdown",
   "metadata": {},
   "source": [
    "# <center>Assignment #5\n",
    "## <center> Unupervised learning\n",
    "\n",
    "**Same assignment as a [Kaggle Kernel](https://www.kaggle.com/kashnitsky/a7-demo-unsupervised-learning) + [solution](https://www.kaggle.com/kashnitsky/a7-demo-unsupervised-learning-solution).**"
   ]
  },
  {
   "cell_type": "markdown",
   "metadata": {},
   "source": [
    "In this task, we will look at how data dimensionality reduction and clustering methods work. At the same time, we'll practice solving classification task again.\n",
    "\n",
    "We will work with the [Samsung Human Activity Recognition](https://archive.ics.uci.edu/ml/datasets/Human+Activity+Recognition+Using+Smartphones) dataset. Download the data [here](https://drive.google.com/file/d/14RukQ0ylM2GCdViUHBBjZ2imCaYcjlux/view?usp=sharing). The data comes from accelerometers and gyros of Samsung Galaxy S3 mobile phones ( you can find more info about the features using the link above), the type of activity of a person with a phone in his/her pocket is also known – whether he/she walked, stood, lay, sat or walked up or down the stairs.\n",
    "\n",
    "First, we pretend that the type of activity is unknown to us, and we will try to cluster people purely on the basis of available features. Then we solve the problem of determining the type of physical activity as a classification problem.\n",
    "\n",
    "Fill the code where needed (\"Your code is here\") and answer the questions in the [web form](https://docs.google.com/forms/d/1wBf5UoRndv6PpzIwYnM9f0ysoGa4Yqcqle-HBlBP5QQ/edit)."
   ]
  },
  {
   "cell_type": "code",
   "execution_count": 1,
   "metadata": {},
   "outputs": [],
   "source": [
    "import os\n",
    "import numpy as np\n",
    "import pandas as pd\n",
    "import seaborn as sns\n",
    "from tqdm import tqdm_notebook\n",
    "\n",
    "%matplotlib inline\n",
    "from matplotlib import pyplot as plt\n",
    "plt.style.use(['seaborn-darkgrid'])\n",
    "plt.rcParams['figure.figsize'] = (12, 9)\n",
    "plt.rcParams['font.family'] = 'DejaVu Sans'\n",
    "\n",
    "from sklearn import metrics\n",
    "from sklearn.cluster import KMeans, AgglomerativeClustering, SpectralClustering\n",
    "from sklearn.decomposition import PCA\n",
    "from sklearn.model_selection import GridSearchCV\n",
    "from sklearn.preprocessing import StandardScaler\n",
    "from sklearn.svm import LinearSVC\n",
    "\n",
    "RANDOM_STATE = 17"
   ]
  },
  {
   "cell_type": "code",
   "execution_count": 2,
   "metadata": {},
   "outputs": [],
   "source": [
    "PATH_TO_SAMSUNG_DATA = \"../../data/samsung_HAR\""
   ]
  },
  {
   "cell_type": "code",
   "execution_count": 3,
   "metadata": {},
   "outputs": [],
   "source": [
    "X_train = np.loadtxt(os.path.join(PATH_TO_SAMSUNG_DATA, \"samsung_train.txt\"))\n",
    "y_train = np.loadtxt(os.path.join(PATH_TO_SAMSUNG_DATA,\n",
    "                                  \"samsung_train_labels.txt\")).astype(int)\n",
    "\n",
    "X_test = np.loadtxt(os.path.join(PATH_TO_SAMSUNG_DATA, \"samsung_test.txt\"))\n",
    "y_test = np.loadtxt(os.path.join(PATH_TO_SAMSUNG_DATA,\n",
    "                                  \"samsung_test_labels.txt\")).astype(int)"
   ]
  },
  {
   "cell_type": "code",
   "execution_count": 4,
   "metadata": {},
   "outputs": [],
   "source": [
    "# Checking dimensions\n",
    "assert(X_train.shape == (7352, 561) and y_train.shape == (7352,))\n",
    "assert(X_test.shape == (2947, 561) and y_test.shape == (2947,))"
   ]
  },
  {
   "cell_type": "markdown",
   "metadata": {},
   "source": [
    "For clustering, we do not need a target vector, so we'll work with the combination of training and test samples. Merge `X_train` with `X_test`, and `y_train` with `y_test`."
   ]
  },
  {
   "cell_type": "code",
   "execution_count": 5,
   "metadata": {},
   "outputs": [
    {
     "data": {
      "text/plain": [
       "(7352, 561)"
      ]
     },
     "execution_count": 5,
     "metadata": {},
     "output_type": "execute_result"
    }
   ],
   "source": [
    "X_train.shape"
   ]
  },
  {
   "cell_type": "code",
   "execution_count": 6,
   "metadata": {},
   "outputs": [
    {
     "data": {
      "text/plain": [
       "(2947, 561)"
      ]
     },
     "execution_count": 6,
     "metadata": {},
     "output_type": "execute_result"
    }
   ],
   "source": [
    "X_test.shape"
   ]
  },
  {
   "cell_type": "code",
   "execution_count": 7,
   "metadata": {},
   "outputs": [],
   "source": [
    "# Your code here\n",
    "X = np.vstack((X_train, X_test))\n",
    "y = np.concatenate((y_train, y_test))"
   ]
  },
  {
   "cell_type": "code",
   "execution_count": 8,
   "metadata": {},
   "outputs": [
    {
     "data": {
      "text/plain": [
       "(10299, 561)"
      ]
     },
     "execution_count": 8,
     "metadata": {},
     "output_type": "execute_result"
    }
   ],
   "source": [
    "X.shape"
   ]
  },
  {
   "cell_type": "code",
   "execution_count": 9,
   "metadata": {},
   "outputs": [
    {
     "data": {
      "text/plain": [
       "(10299,)"
      ]
     },
     "execution_count": 9,
     "metadata": {},
     "output_type": "execute_result"
    }
   ],
   "source": [
    "y.shape"
   ]
  },
  {
   "cell_type": "markdown",
   "metadata": {},
   "source": [
    "Define the number of unique values of the labels of the target class."
   ]
  },
  {
   "cell_type": "code",
   "execution_count": 10,
   "metadata": {},
   "outputs": [],
   "source": [
    "# np.unique(y)"
   ]
  },
  {
   "cell_type": "code",
   "execution_count": 11,
   "metadata": {},
   "outputs": [
    {
     "data": {
      "text/plain": [
       "6"
      ]
     },
     "execution_count": 11,
     "metadata": {},
     "output_type": "execute_result"
    }
   ],
   "source": [
    "n_classes = np.unique(y).size\n",
    "n_classes"
   ]
  },
  {
   "cell_type": "code",
   "execution_count": 12,
   "metadata": {},
   "outputs": [
    {
     "data": {
      "text/plain": [
       "array([1, 2, 3, 4, 5, 6])"
      ]
     },
     "execution_count": 12,
     "metadata": {},
     "output_type": "execute_result"
    }
   ],
   "source": [
    "np.unique(y)"
   ]
  },
  {
   "cell_type": "code",
   "execution_count": 13,
   "metadata": {},
   "outputs": [
    {
     "data": {
      "text/plain": [
       "6"
      ]
     },
     "execution_count": 13,
     "metadata": {},
     "output_type": "execute_result"
    }
   ],
   "source": [
    "np.unique(y).size"
   ]
  },
  {
   "cell_type": "markdown",
   "metadata": {},
   "source": [
    "[These labels correspond to:](https://archive.ics.uci.edu/ml/machine-learning-databases/00240/UCI%20HAR%20Dataset.names)\n",
    "- 1 – walking\n",
    "- 2 – walking upstairs\n",
    "- 3 – walking downstairs\n",
    "- 4 – sitting\n",
    "- 5 – standing\n",
    "- 6 – laying down"
   ]
  },
  {
   "cell_type": "code",
   "execution_count": 14,
   "metadata": {},
   "outputs": [],
   "source": [
    "labels = {1: \"walking\", 2:\"walking upstairs\", 3:\"walking downstairs\", 4:\"sitting\", 5:\"standing\", 6:\"laying down\"}"
   ]
  },
  {
   "cell_type": "markdown",
   "metadata": {},
   "source": [
    "Scale the sample using `StandardScaler` with default parameters."
   ]
  },
  {
   "cell_type": "code",
   "execution_count": 15,
   "metadata": {},
   "outputs": [],
   "source": [
    "# Your code here\n",
    "from sklearn.preprocessing import StandardScaler\n",
    "scaler = StandardScaler()\n",
    "X_scaled = scaler.fit_transform(X)"
   ]
  },
  {
   "cell_type": "markdown",
   "metadata": {},
   "source": [
    "Reduce the number of dimensions using PCA, leaving as many components as necessary to explain at least 90% of the variance of the original (scaled) data. Use the scaled dataset and fix `random_state` (RANDOM_STATE constant)."
   ]
  },
  {
   "cell_type": "code",
   "execution_count": 16,
   "metadata": {},
   "outputs": [],
   "source": [
    "# Your code here\n",
    "from sklearn.decomposition import PCA\n",
    "pca = PCA(random_state=RANDOM_STATE)\n",
    "X = pca.fit_transform(X_scaled)"
   ]
  },
  {
   "cell_type": "code",
   "execution_count": 17,
   "metadata": {},
   "outputs": [
    {
     "name": "stdout",
     "output_type": "stream",
     "text": [
      "1. component contains 51.0% explained variance\n",
      "2. component contains 6.0% explained variance\n",
      "3. component contains 3.0% explained variance\n",
      "4. component contains 2.0% explained variance\n",
      "5. component contains 2.0% explained variance\n",
      "6. component contains 2.0% explained variance\n",
      "7. component contains 1.0% explained variance\n",
      "8. component contains 1.0% explained variance\n",
      "9. component contains 1.0% explained variance\n",
      "10. component contains 1.0% explained variance\n",
      "11. component contains 1.0% explained variance\n",
      "12. component contains 1.0% explained variance\n",
      "13. component contains 1.0% explained variance\n",
      "14. component contains 1.0% explained variance\n",
      "15. component contains 1.0% explained variance\n",
      "16. component contains 1.0% explained variance\n",
      "17. component contains 1.0% explained variance\n",
      "18. component contains 1.0% explained variance\n",
      "19. component contains 1.0% explained variance\n",
      "20. component contains 1.0% explained variance\n",
      "21. component contains 1.0% explained variance\n",
      "22. component contains 1.0% explained variance\n",
      "23. component contains 0.0% explained variance\n",
      "24. component contains 0.0% explained variance\n",
      "25. component contains 0.0% explained variance\n",
      "26. component contains 0.0% explained variance\n",
      "27. component contains 0.0% explained variance\n",
      "28. component contains 0.0% explained variance\n",
      "29. component contains 0.0% explained variance\n",
      "30. component contains 0.0% explained variance\n",
      "31. component contains 0.0% explained variance\n",
      "32. component contains 0.0% explained variance\n",
      "33. component contains 0.0% explained variance\n",
      "34. component contains 0.0% explained variance\n",
      "35. component contains 0.0% explained variance\n",
      "36. component contains 0.0% explained variance\n",
      "37. component contains 0.0% explained variance\n",
      "38. component contains 0.0% explained variance\n",
      "39. component contains 0.0% explained variance\n",
      "40. component contains 0.0% explained variance\n",
      "41. component contains 0.0% explained variance\n",
      "42. component contains 0.0% explained variance\n",
      "43. component contains 0.0% explained variance\n",
      "44. component contains 0.0% explained variance\n",
      "45. component contains 0.0% explained variance\n",
      "46. component contains 0.0% explained variance\n",
      "47. component contains 0.0% explained variance\n",
      "48. component contains 0.0% explained variance\n",
      "49. component contains 0.0% explained variance\n",
      "50. component contains 0.0% explained variance\n",
      "51. component contains 0.0% explained variance\n",
      "52. component contains 0.0% explained variance\n",
      "53. component contains 0.0% explained variance\n",
      "54. component contains 0.0% explained variance\n",
      "55. component contains 0.0% explained variance\n",
      "56. component contains 0.0% explained variance\n",
      "57. component contains 0.0% explained variance\n",
      "58. component contains 0.0% explained variance\n",
      "59. component contains 0.0% explained variance\n",
      "60. component contains 0.0% explained variance\n",
      "61. component contains 0.0% explained variance\n",
      "62. component contains 0.0% explained variance\n",
      "63. component contains 0.0% explained variance\n",
      "64. component contains 0.0% explained variance\n",
      "65. component contains 0.0% explained variance\n",
      "66. component contains 0.0% explained variance\n",
      "67. component contains 0.0% explained variance\n",
      "68. component contains 0.0% explained variance\n",
      "69. component contains 0.0% explained variance\n",
      "70. component contains 0.0% explained variance\n",
      "71. component contains 0.0% explained variance\n",
      "72. component contains 0.0% explained variance\n",
      "73. component contains 0.0% explained variance\n",
      "74. component contains 0.0% explained variance\n",
      "75. component contains 0.0% explained variance\n",
      "76. component contains 0.0% explained variance\n",
      "77. component contains 0.0% explained variance\n",
      "78. component contains 0.0% explained variance\n",
      "79. component contains 0.0% explained variance\n",
      "80. component contains 0.0% explained variance\n",
      "81. component contains 0.0% explained variance\n",
      "82. component contains 0.0% explained variance\n",
      "83. component contains 0.0% explained variance\n",
      "84. component contains 0.0% explained variance\n",
      "85. component contains 0.0% explained variance\n",
      "86. component contains 0.0% explained variance\n",
      "87. component contains 0.0% explained variance\n",
      "88. component contains 0.0% explained variance\n",
      "89. component contains 0.0% explained variance\n",
      "90. component contains 0.0% explained variance\n",
      "91. component contains 0.0% explained variance\n",
      "92. component contains 0.0% explained variance\n",
      "93. component contains 0.0% explained variance\n",
      "94. component contains 0.0% explained variance\n",
      "95. component contains 0.0% explained variance\n",
      "96. component contains 0.0% explained variance\n",
      "97. component contains 0.0% explained variance\n",
      "98. component contains 0.0% explained variance\n",
      "99. component contains 0.0% explained variance\n",
      "100. component contains 0.0% explained variance\n",
      "101. component contains 0.0% explained variance\n",
      "102. component contains 0.0% explained variance\n",
      "103. component contains 0.0% explained variance\n",
      "104. component contains 0.0% explained variance\n",
      "105. component contains 0.0% explained variance\n",
      "106. component contains 0.0% explained variance\n",
      "107. component contains 0.0% explained variance\n",
      "108. component contains 0.0% explained variance\n",
      "109. component contains 0.0% explained variance\n",
      "110. component contains 0.0% explained variance\n",
      "111. component contains 0.0% explained variance\n",
      "112. component contains 0.0% explained variance\n",
      "113. component contains 0.0% explained variance\n",
      "114. component contains 0.0% explained variance\n",
      "115. component contains 0.0% explained variance\n",
      "116. component contains 0.0% explained variance\n",
      "117. component contains 0.0% explained variance\n",
      "118. component contains 0.0% explained variance\n",
      "119. component contains 0.0% explained variance\n",
      "120. component contains 0.0% explained variance\n",
      "121. component contains 0.0% explained variance\n",
      "122. component contains 0.0% explained variance\n",
      "123. component contains 0.0% explained variance\n",
      "124. component contains 0.0% explained variance\n",
      "125. component contains 0.0% explained variance\n",
      "126. component contains 0.0% explained variance\n",
      "127. component contains 0.0% explained variance\n",
      "128. component contains 0.0% explained variance\n",
      "129. component contains 0.0% explained variance\n",
      "130. component contains 0.0% explained variance\n",
      "131. component contains 0.0% explained variance\n",
      "132. component contains 0.0% explained variance\n",
      "133. component contains 0.0% explained variance\n",
      "134. component contains 0.0% explained variance\n",
      "135. component contains 0.0% explained variance\n",
      "136. component contains 0.0% explained variance\n",
      "137. component contains 0.0% explained variance\n",
      "138. component contains 0.0% explained variance\n",
      "139. component contains 0.0% explained variance\n",
      "140. component contains 0.0% explained variance\n",
      "141. component contains 0.0% explained variance\n",
      "142. component contains 0.0% explained variance\n",
      "143. component contains 0.0% explained variance\n",
      "144. component contains 0.0% explained variance\n",
      "145. component contains 0.0% explained variance\n",
      "146. component contains 0.0% explained variance\n",
      "147. component contains 0.0% explained variance\n",
      "148. component contains 0.0% explained variance\n",
      "149. component contains 0.0% explained variance\n",
      "150. component contains 0.0% explained variance\n",
      "151. component contains 0.0% explained variance\n",
      "152. component contains 0.0% explained variance\n",
      "153. component contains 0.0% explained variance\n",
      "154. component contains 0.0% explained variance\n",
      "155. component contains 0.0% explained variance\n",
      "156. component contains 0.0% explained variance\n",
      "157. component contains 0.0% explained variance\n",
      "158. component contains 0.0% explained variance\n",
      "159. component contains 0.0% explained variance\n",
      "160. component contains 0.0% explained variance\n",
      "161. component contains 0.0% explained variance\n",
      "162. component contains 0.0% explained variance\n",
      "163. component contains 0.0% explained variance\n",
      "164. component contains 0.0% explained variance\n",
      "165. component contains 0.0% explained variance\n",
      "166. component contains 0.0% explained variance\n",
      "167. component contains 0.0% explained variance\n",
      "168. component contains 0.0% explained variance\n",
      "169. component contains 0.0% explained variance\n",
      "170. component contains 0.0% explained variance\n",
      "171. component contains 0.0% explained variance\n",
      "172. component contains 0.0% explained variance\n",
      "173. component contains 0.0% explained variance\n",
      "174. component contains 0.0% explained variance\n",
      "175. component contains 0.0% explained variance\n",
      "176. component contains 0.0% explained variance\n",
      "177. component contains 0.0% explained variance\n",
      "178. component contains 0.0% explained variance\n",
      "179. component contains 0.0% explained variance\n",
      "180. component contains 0.0% explained variance\n",
      "181. component contains 0.0% explained variance\n",
      "182. component contains 0.0% explained variance\n",
      "183. component contains 0.0% explained variance\n",
      "184. component contains 0.0% explained variance\n",
      "185. component contains 0.0% explained variance\n",
      "186. component contains 0.0% explained variance\n",
      "187. component contains 0.0% explained variance\n",
      "188. component contains 0.0% explained variance\n",
      "189. component contains 0.0% explained variance\n",
      "190. component contains 0.0% explained variance\n",
      "191. component contains 0.0% explained variance\n",
      "192. component contains 0.0% explained variance\n",
      "193. component contains 0.0% explained variance\n",
      "194. component contains 0.0% explained variance\n",
      "195. component contains 0.0% explained variance\n",
      "196. component contains 0.0% explained variance\n",
      "197. component contains 0.0% explained variance\n",
      "198. component contains 0.0% explained variance\n",
      "199. component contains 0.0% explained variance\n",
      "200. component contains 0.0% explained variance\n",
      "201. component contains 0.0% explained variance\n",
      "202. component contains 0.0% explained variance\n",
      "203. component contains 0.0% explained variance\n",
      "204. component contains 0.0% explained variance\n",
      "205. component contains 0.0% explained variance\n",
      "206. component contains 0.0% explained variance\n",
      "207. component contains 0.0% explained variance\n",
      "208. component contains 0.0% explained variance\n",
      "209. component contains 0.0% explained variance\n",
      "210. component contains 0.0% explained variance\n",
      "211. component contains 0.0% explained variance\n",
      "212. component contains 0.0% explained variance\n",
      "213. component contains 0.0% explained variance\n",
      "214. component contains 0.0% explained variance\n",
      "215. component contains 0.0% explained variance\n",
      "216. component contains 0.0% explained variance\n",
      "217. component contains 0.0% explained variance\n",
      "218. component contains 0.0% explained variance\n",
      "219. component contains 0.0% explained variance\n",
      "220. component contains 0.0% explained variance\n",
      "221. component contains 0.0% explained variance\n",
      "222. component contains 0.0% explained variance\n",
      "223. component contains 0.0% explained variance\n",
      "224. component contains 0.0% explained variance\n",
      "225. component contains 0.0% explained variance\n",
      "226. component contains 0.0% explained variance\n",
      "227. component contains 0.0% explained variance\n",
      "228. component contains 0.0% explained variance\n",
      "229. component contains 0.0% explained variance\n",
      "230. component contains 0.0% explained variance\n",
      "231. component contains 0.0% explained variance\n",
      "232. component contains 0.0% explained variance\n",
      "233. component contains 0.0% explained variance\n",
      "234. component contains 0.0% explained variance\n",
      "235. component contains 0.0% explained variance\n",
      "236. component contains 0.0% explained variance\n",
      "237. component contains 0.0% explained variance\n",
      "238. component contains 0.0% explained variance\n",
      "239. component contains 0.0% explained variance\n",
      "240. component contains 0.0% explained variance\n",
      "241. component contains 0.0% explained variance\n",
      "242. component contains 0.0% explained variance\n",
      "243. component contains 0.0% explained variance\n",
      "244. component contains 0.0% explained variance\n",
      "245. component contains 0.0% explained variance\n",
      "246. component contains 0.0% explained variance\n",
      "247. component contains 0.0% explained variance\n",
      "248. component contains 0.0% explained variance\n",
      "249. component contains 0.0% explained variance\n",
      "250. component contains 0.0% explained variance\n",
      "251. component contains 0.0% explained variance\n",
      "252. component contains 0.0% explained variance\n",
      "253. component contains 0.0% explained variance\n",
      "254. component contains 0.0% explained variance\n",
      "255. component contains 0.0% explained variance\n",
      "256. component contains 0.0% explained variance\n",
      "257. component contains 0.0% explained variance\n",
      "258. component contains 0.0% explained variance\n",
      "259. component contains 0.0% explained variance\n",
      "260. component contains 0.0% explained variance\n",
      "261. component contains 0.0% explained variance\n",
      "262. component contains 0.0% explained variance\n",
      "263. component contains 0.0% explained variance\n",
      "264. component contains 0.0% explained variance\n",
      "265. component contains 0.0% explained variance\n",
      "266. component contains 0.0% explained variance\n",
      "267. component contains 0.0% explained variance\n",
      "268. component contains 0.0% explained variance\n",
      "269. component contains 0.0% explained variance\n",
      "270. component contains 0.0% explained variance\n",
      "271. component contains 0.0% explained variance\n",
      "272. component contains 0.0% explained variance\n",
      "273. component contains 0.0% explained variance\n",
      "274. component contains 0.0% explained variance\n",
      "275. component contains 0.0% explained variance\n",
      "276. component contains 0.0% explained variance\n",
      "277. component contains 0.0% explained variance\n",
      "278. component contains 0.0% explained variance\n",
      "279. component contains 0.0% explained variance\n",
      "280. component contains 0.0% explained variance\n",
      "281. component contains 0.0% explained variance\n",
      "282. component contains 0.0% explained variance\n",
      "283. component contains 0.0% explained variance\n",
      "284. component contains 0.0% explained variance\n",
      "285. component contains 0.0% explained variance\n",
      "286. component contains 0.0% explained variance\n",
      "287. component contains 0.0% explained variance\n",
      "288. component contains 0.0% explained variance\n",
      "289. component contains 0.0% explained variance\n",
      "290. component contains 0.0% explained variance\n",
      "291. component contains 0.0% explained variance\n",
      "292. component contains 0.0% explained variance\n",
      "293. component contains 0.0% explained variance\n",
      "294. component contains 0.0% explained variance\n",
      "295. component contains 0.0% explained variance\n",
      "296. component contains 0.0% explained variance\n",
      "297. component contains 0.0% explained variance\n",
      "298. component contains 0.0% explained variance\n",
      "299. component contains 0.0% explained variance\n",
      "300. component contains 0.0% explained variance\n",
      "301. component contains 0.0% explained variance\n",
      "302. component contains 0.0% explained variance\n",
      "303. component contains 0.0% explained variance\n",
      "304. component contains 0.0% explained variance\n",
      "305. component contains 0.0% explained variance\n",
      "306. component contains 0.0% explained variance\n",
      "307. component contains 0.0% explained variance\n",
      "308. component contains 0.0% explained variance\n",
      "309. component contains 0.0% explained variance\n",
      "310. component contains 0.0% explained variance\n",
      "311. component contains 0.0% explained variance\n",
      "312. component contains 0.0% explained variance\n",
      "313. component contains 0.0% explained variance\n",
      "314. component contains 0.0% explained variance\n",
      "315. component contains 0.0% explained variance\n",
      "316. component contains 0.0% explained variance\n",
      "317. component contains 0.0% explained variance\n",
      "318. component contains 0.0% explained variance\n",
      "319. component contains 0.0% explained variance\n",
      "320. component contains 0.0% explained variance\n",
      "321. component contains 0.0% explained variance\n",
      "322. component contains 0.0% explained variance\n",
      "323. component contains 0.0% explained variance\n",
      "324. component contains 0.0% explained variance\n",
      "325. component contains 0.0% explained variance\n",
      "326. component contains 0.0% explained variance\n",
      "327. component contains 0.0% explained variance\n",
      "328. component contains 0.0% explained variance\n",
      "329. component contains 0.0% explained variance\n",
      "330. component contains 0.0% explained variance\n",
      "331. component contains 0.0% explained variance\n",
      "332. component contains 0.0% explained variance\n",
      "333. component contains 0.0% explained variance\n",
      "334. component contains 0.0% explained variance\n",
      "335. component contains 0.0% explained variance\n",
      "336. component contains 0.0% explained variance\n",
      "337. component contains 0.0% explained variance\n",
      "338. component contains 0.0% explained variance\n",
      "339. component contains 0.0% explained variance\n",
      "340. component contains 0.0% explained variance\n",
      "341. component contains 0.0% explained variance\n",
      "342. component contains 0.0% explained variance\n",
      "343. component contains 0.0% explained variance\n",
      "344. component contains 0.0% explained variance\n",
      "345. component contains 0.0% explained variance\n",
      "346. component contains 0.0% explained variance\n",
      "347. component contains 0.0% explained variance\n",
      "348. component contains 0.0% explained variance\n",
      "349. component contains 0.0% explained variance\n",
      "350. component contains 0.0% explained variance\n",
      "351. component contains 0.0% explained variance\n",
      "352. component contains 0.0% explained variance\n",
      "353. component contains 0.0% explained variance\n",
      "354. component contains 0.0% explained variance\n",
      "355. component contains 0.0% explained variance\n",
      "356. component contains 0.0% explained variance\n",
      "357. component contains 0.0% explained variance\n",
      "358. component contains 0.0% explained variance\n",
      "359. component contains 0.0% explained variance\n",
      "360. component contains 0.0% explained variance\n",
      "361. component contains 0.0% explained variance\n",
      "362. component contains 0.0% explained variance\n",
      "363. component contains 0.0% explained variance\n",
      "364. component contains 0.0% explained variance\n",
      "365. component contains 0.0% explained variance\n",
      "366. component contains 0.0% explained variance\n",
      "367. component contains 0.0% explained variance\n",
      "368. component contains 0.0% explained variance\n",
      "369. component contains 0.0% explained variance\n",
      "370. component contains 0.0% explained variance\n",
      "371. component contains 0.0% explained variance\n",
      "372. component contains 0.0% explained variance\n",
      "373. component contains 0.0% explained variance\n",
      "374. component contains 0.0% explained variance\n",
      "375. component contains 0.0% explained variance\n",
      "376. component contains 0.0% explained variance\n",
      "377. component contains 0.0% explained variance\n",
      "378. component contains 0.0% explained variance\n",
      "379. component contains 0.0% explained variance\n",
      "380. component contains 0.0% explained variance\n",
      "381. component contains 0.0% explained variance\n",
      "382. component contains 0.0% explained variance\n",
      "383. component contains 0.0% explained variance\n",
      "384. component contains 0.0% explained variance\n",
      "385. component contains 0.0% explained variance\n",
      "386. component contains 0.0% explained variance\n",
      "387. component contains 0.0% explained variance\n",
      "388. component contains 0.0% explained variance\n",
      "389. component contains 0.0% explained variance\n",
      "390. component contains 0.0% explained variance\n",
      "391. component contains 0.0% explained variance\n",
      "392. component contains 0.0% explained variance\n",
      "393. component contains 0.0% explained variance\n",
      "394. component contains 0.0% explained variance\n",
      "395. component contains 0.0% explained variance\n",
      "396. component contains 0.0% explained variance\n",
      "397. component contains 0.0% explained variance\n",
      "398. component contains 0.0% explained variance\n",
      "399. component contains 0.0% explained variance\n",
      "400. component contains 0.0% explained variance\n",
      "401. component contains 0.0% explained variance\n",
      "402. component contains 0.0% explained variance\n",
      "403. component contains 0.0% explained variance\n",
      "404. component contains 0.0% explained variance\n",
      "405. component contains 0.0% explained variance\n",
      "406. component contains 0.0% explained variance\n",
      "407. component contains 0.0% explained variance\n",
      "408. component contains 0.0% explained variance\n",
      "409. component contains 0.0% explained variance\n",
      "410. component contains 0.0% explained variance\n",
      "411. component contains 0.0% explained variance\n",
      "412. component contains 0.0% explained variance\n",
      "413. component contains 0.0% explained variance\n",
      "414. component contains 0.0% explained variance\n",
      "415. component contains 0.0% explained variance\n",
      "416. component contains 0.0% explained variance\n",
      "417. component contains 0.0% explained variance\n",
      "418. component contains 0.0% explained variance\n",
      "419. component contains 0.0% explained variance\n",
      "420. component contains 0.0% explained variance\n",
      "421. component contains 0.0% explained variance\n",
      "422. component contains 0.0% explained variance\n",
      "423. component contains 0.0% explained variance\n",
      "424. component contains 0.0% explained variance\n",
      "425. component contains 0.0% explained variance\n",
      "426. component contains 0.0% explained variance\n",
      "427. component contains 0.0% explained variance\n",
      "428. component contains 0.0% explained variance\n",
      "429. component contains 0.0% explained variance\n",
      "430. component contains 0.0% explained variance\n",
      "431. component contains 0.0% explained variance\n",
      "432. component contains 0.0% explained variance\n",
      "433. component contains 0.0% explained variance\n",
      "434. component contains 0.0% explained variance\n",
      "435. component contains 0.0% explained variance\n",
      "436. component contains 0.0% explained variance\n",
      "437. component contains 0.0% explained variance\n",
      "438. component contains 0.0% explained variance\n",
      "439. component contains 0.0% explained variance\n",
      "440. component contains 0.0% explained variance\n",
      "441. component contains 0.0% explained variance\n",
      "442. component contains 0.0% explained variance\n",
      "443. component contains 0.0% explained variance\n",
      "444. component contains 0.0% explained variance\n",
      "445. component contains 0.0% explained variance\n",
      "446. component contains 0.0% explained variance\n",
      "447. component contains 0.0% explained variance\n",
      "448. component contains 0.0% explained variance\n",
      "449. component contains 0.0% explained variance\n",
      "450. component contains 0.0% explained variance\n",
      "451. component contains 0.0% explained variance\n",
      "452. component contains 0.0% explained variance\n",
      "453. component contains 0.0% explained variance\n",
      "454. component contains 0.0% explained variance\n",
      "455. component contains 0.0% explained variance\n",
      "456. component contains 0.0% explained variance\n",
      "457. component contains 0.0% explained variance\n",
      "458. component contains 0.0% explained variance\n",
      "459. component contains 0.0% explained variance\n",
      "460. component contains 0.0% explained variance\n",
      "461. component contains 0.0% explained variance\n",
      "462. component contains 0.0% explained variance\n",
      "463. component contains 0.0% explained variance\n",
      "464. component contains 0.0% explained variance\n",
      "465. component contains 0.0% explained variance\n",
      "466. component contains 0.0% explained variance\n",
      "467. component contains 0.0% explained variance\n",
      "468. component contains 0.0% explained variance\n",
      "469. component contains 0.0% explained variance\n",
      "470. component contains 0.0% explained variance\n",
      "471. component contains 0.0% explained variance\n",
      "472. component contains 0.0% explained variance\n",
      "473. component contains 0.0% explained variance\n",
      "474. component contains 0.0% explained variance\n",
      "475. component contains 0.0% explained variance\n",
      "476. component contains 0.0% explained variance\n",
      "477. component contains 0.0% explained variance\n",
      "478. component contains 0.0% explained variance\n",
      "479. component contains 0.0% explained variance\n",
      "480. component contains 0.0% explained variance\n",
      "481. component contains 0.0% explained variance\n",
      "482. component contains 0.0% explained variance\n",
      "483. component contains 0.0% explained variance\n",
      "484. component contains 0.0% explained variance\n",
      "485. component contains 0.0% explained variance\n",
      "486. component contains 0.0% explained variance\n",
      "487. component contains 0.0% explained variance\n",
      "488. component contains 0.0% explained variance\n",
      "489. component contains 0.0% explained variance\n",
      "490. component contains 0.0% explained variance\n",
      "491. component contains 0.0% explained variance\n",
      "492. component contains 0.0% explained variance\n",
      "493. component contains 0.0% explained variance\n",
      "494. component contains 0.0% explained variance\n",
      "495. component contains 0.0% explained variance\n",
      "496. component contains 0.0% explained variance\n",
      "497. component contains 0.0% explained variance\n",
      "498. component contains 0.0% explained variance\n",
      "499. component contains 0.0% explained variance\n",
      "500. component contains 0.0% explained variance\n",
      "501. component contains 0.0% explained variance\n",
      "502. component contains 0.0% explained variance\n",
      "503. component contains 0.0% explained variance\n",
      "504. component contains 0.0% explained variance\n",
      "505. component contains 0.0% explained variance\n",
      "506. component contains 0.0% explained variance\n",
      "507. component contains 0.0% explained variance\n",
      "508. component contains 0.0% explained variance\n",
      "509. component contains 0.0% explained variance\n",
      "510. component contains 0.0% explained variance\n",
      "511. component contains 0.0% explained variance\n",
      "512. component contains 0.0% explained variance\n",
      "513. component contains 0.0% explained variance\n",
      "514. component contains 0.0% explained variance\n",
      "515. component contains 0.0% explained variance\n",
      "516. component contains 0.0% explained variance\n",
      "517. component contains 0.0% explained variance\n",
      "518. component contains 0.0% explained variance\n",
      "519. component contains 0.0% explained variance\n",
      "520. component contains 0.0% explained variance\n",
      "521. component contains 0.0% explained variance\n",
      "522. component contains 0.0% explained variance\n",
      "523. component contains 0.0% explained variance\n",
      "524. component contains 0.0% explained variance\n",
      "525. component contains 0.0% explained variance\n",
      "526. component contains 0.0% explained variance\n",
      "527. component contains 0.0% explained variance\n",
      "528. component contains 0.0% explained variance\n",
      "529. component contains 0.0% explained variance\n",
      "530. component contains 0.0% explained variance\n",
      "531. component contains 0.0% explained variance\n",
      "532. component contains 0.0% explained variance\n",
      "533. component contains 0.0% explained variance\n",
      "534. component contains 0.0% explained variance\n",
      "535. component contains 0.0% explained variance\n",
      "536. component contains 0.0% explained variance\n",
      "537. component contains 0.0% explained variance\n",
      "538. component contains 0.0% explained variance\n",
      "539. component contains 0.0% explained variance\n",
      "540. component contains 0.0% explained variance\n",
      "541. component contains 0.0% explained variance\n",
      "542. component contains 0.0% explained variance\n",
      "543. component contains 0.0% explained variance\n",
      "544. component contains 0.0% explained variance\n",
      "545. component contains 0.0% explained variance\n",
      "546. component contains 0.0% explained variance\n",
      "547. component contains 0.0% explained variance\n",
      "548. component contains 0.0% explained variance\n",
      "549. component contains 0.0% explained variance\n",
      "550. component contains 0.0% explained variance\n",
      "551. component contains 0.0% explained variance\n",
      "552. component contains 0.0% explained variance\n",
      "553. component contains 0.0% explained variance\n",
      "554. component contains 0.0% explained variance\n",
      "555. component contains 0.0% explained variance\n",
      "556. component contains 0.0% explained variance\n",
      "557. component contains 0.0% explained variance\n",
      "558. component contains 0.0% explained variance\n",
      "559. component contains 0.0% explained variance\n",
      "560. component contains 0.0% explained variance\n",
      "561. component contains 0.0% explained variance\n"
     ]
    }
   ],
   "source": [
    "for i, component in enumerate(pca.components_):\n",
    "    print(\"{}. component contains {}% explained variance\".format(i + 1, np.round(pca.explained_variance_ratio_[i] * 100)))"
   ]
  },
  {
   "cell_type": "markdown",
   "metadata": {},
   "source": [
    "** Question 1: ** <br>\n",
    "What is the minimum number of principal components required to cover the 90% of the variance of the original (scaled) data?"
   ]
  },
  {
   "cell_type": "code",
   "execution_count": 18,
   "metadata": {},
   "outputs": [
    {
     "name": "stdout",
     "output_type": "stream",
     "text": [
      "65\n"
     ]
    }
   ],
   "source": [
    "# Your code here\n",
    "explained_var = 0\n",
    "X_pca = -1\n",
    "for i, variance in enumerate(pca.explained_variance_ratio_):\n",
    "    explained_var += variance\n",
    "    if explained_var > 0.9:\n",
    "        X_pca = i + 1\n",
    "        break\n",
    "print(X_pca)"
   ]
  },
  {
   "cell_type": "code",
   "execution_count": 19,
   "metadata": {},
   "outputs": [
    {
     "data": {
      "text/plain": [
       "90.04833346822929"
      ]
     },
     "execution_count": 19,
     "metadata": {},
     "output_type": "execute_result"
    }
   ],
   "source": [
    "100 * np.cumsum(pca.explained_variance_ratio_)[64]"
   ]
  },
  {
   "cell_type": "code",
   "execution_count": 20,
   "metadata": {},
   "outputs": [
    {
     "data": {
      "image/png": "[encoded data removed]",
      "text/plain": [
       "<Figure size 720x504 with 1 Axes>"
      ]
     },
     "metadata": {
      "needs_background": "light"
     },
     "output_type": "display_data"
    }
   ],
   "source": [
    "plt.figure(figsize=(10,7))\n",
    "plt.plot(np.cumsum(pca.explained_variance_ratio_), color='k', lw=2)\n",
    "plt.xlabel('Number of components')\n",
    "plt.ylabel('Total explained variance')\n",
    "plt.xlim(0, 562)\n",
    "plt.yticks(np.arange(0, 1.1, 0.1))\n",
    "plt.axvline(X_pca, c='b')\n",
    "plt.axhline(0.9, c='r')\n",
    "plt.show();"
   ]
  },
  {
   "cell_type": "markdown",
   "metadata": {},
   "source": [
    "**Answer options:**\n",
    "- 56 \n",
    "- 65\n",
    "- 66\n",
    "- 193"
   ]
  },
  {
   "cell_type": "markdown",
   "metadata": {},
   "source": [
    "Since we reach 90% explained variance with inclusion of the first 65 components, the answer would be\n",
    "2. `65`\n"
   ]
  },
  {
   "cell_type": "markdown",
   "metadata": {},
   "source": [
    "**Вопрос 2:**<br>\n",
    "What percentage of the variance is covered by the first principal component? Round to the nearest percent.\n",
    "\n",
    "**Answer options:**\n",
    "- 45\n",
    "- 51 \n",
    "- 56\n",
    "- 61"
   ]
  },
  {
   "cell_type": "code",
   "execution_count": 21,
   "metadata": {},
   "outputs": [
    {
     "data": {
      "text/plain": [
       "51.0"
      ]
     },
     "execution_count": 21,
     "metadata": {},
     "output_type": "execute_result"
    }
   ],
   "source": [
    "# Your code here\n",
    "np.round(pca.explained_variance_ratio_[0]*100)"
   ]
  },
  {
   "cell_type": "markdown",
   "metadata": {},
   "source": [
    "The first component explains \n",
    "\n",
    "2.  `51%`\n",
    "\n",
    "of the variance"
   ]
  },
  {
   "cell_type": "markdown",
   "metadata": {},
   "source": [
    "Visualize data in projection on the first two principal components."
   ]
  },
  {
   "cell_type": "code",
   "execution_count": 22,
   "metadata": {},
   "outputs": [
    {
     "data": {
      "text/plain": [
       "(10299,)"
      ]
     },
     "execution_count": 22,
     "metadata": {},
     "output_type": "execute_result"
    }
   ],
   "source": [
    "y.shape"
   ]
  },
  {
   "cell_type": "code",
   "execution_count": 23,
   "metadata": {},
   "outputs": [
    {
     "data": {
      "text/plain": [
       "dict_keys([1, 2, 3, 4, 5, 6])"
      ]
     },
     "execution_count": 23,
     "metadata": {},
     "output_type": "execute_result"
    }
   ],
   "source": [
    "labels.keys()"
   ]
  },
  {
   "cell_type": "code",
   "execution_count": 24,
   "metadata": {},
   "outputs": [
    {
     "data": {
      "image/png": "[encoded data removed]",
      "text/plain": [
       "<Figure size 864x864 with 2 Axes>"
      ]
     },
     "metadata": {
      "needs_background": "light"
     },
     "output_type": "display_data"
    }
   ],
   "source": [
    "# Your code here\n",
    "pca = PCA(n_components=X_pca)\n",
    "X = pca.fit_transform(X_scaled)\n",
    "\n",
    "plt.figure(figsize=(12,12))\n",
    "plt.legend(labels=labels.values())\n",
    "plt.scatter(X[:,0], X[:,1] , c=y, s=20, cmap='viridis');\n",
    "plt.title(\"The first two principal components\")\n",
    "plt.xlabel(\"First principal component\")\n",
    "plt.ylabel(\"Second principal component\")\n",
    "cbar = plt.colorbar()\n",
    "cbar.ax.set_yticklabels(list(labels.values()))\n",
    "plt.show()"
   ]
  },
  {
   "cell_type": "markdown",
   "metadata": {},
   "source": [
    "**Question 3:**<br>\n",
    "If everything worked out correctly, you will see a number of clusters, almost perfectly separated from each other. What types of activity are included in these clusters? <br>\n",
    "\n",
    "**Answer options:**\n",
    "- 1 cluster: all 6 activities\n",
    "- 2 clusters: (walking, walking upstairs, walking downstairs ) and (sitting, standing, laying)\n",
    "- 3 clusters: (walking), (walking upstairs, walking downstairs) and (sitting, standing, laying)\n",
    "- 6 clusters"
   ]
  },
  {
   "cell_type": "markdown",
   "metadata": {},
   "source": [
    "Answer:\n",
    "2.  There are 2 clusters visible which split into (walking, walking upstairs, walking downstairs ) and (sitting, standing, laying)"
   ]
  },
  {
   "cell_type": "markdown",
   "metadata": {},
   "source": [
    "------------------------------"
   ]
  },
  {
   "cell_type": "markdown",
   "metadata": {},
   "source": [
    "Perform clustering with the `KMeans` method, training the model on data with reduced dimensionality (by PCA). In this case, we will give a clue to look for exactly 6 clusters, but in general case we will not know how many clusters we should be looking for.\n",
    "\n",
    "Options:\n",
    "\n",
    "- ** n_clusters ** = n_classes (number of unique labels of the target class)\n",
    "- ** n_init ** = 100\n",
    "- ** random_state ** = RANDOM_STATE (for reproducibility of the result)\n",
    "\n",
    "Other parameters should have default values."
   ]
  },
  {
   "cell_type": "code",
   "execution_count": 25,
   "metadata": {},
   "outputs": [],
   "source": [
    "# Your code here\n",
    "from sklearn.cluster import KMeans\n",
    "kmeans = KMeans(n_clusters=len(labels), n_init=100, random_state=RANDOM_STATE)\n",
    "fit = kmeans.fit(X)"
   ]
  },
  {
   "cell_type": "markdown",
   "metadata": {},
   "source": [
    "Visualize data in projection on the first two principal components. Color the dots according to the clusters obtained."
   ]
  },
  {
   "cell_type": "code",
   "execution_count": 26,
   "metadata": {},
   "outputs": [
    {
     "data": {
      "image/png": "[encoded data removed]",
      "text/plain": [
       "<Figure size 864x864 with 1 Axes>"
      ]
     },
     "metadata": {
      "needs_background": "light"
     },
     "output_type": "display_data"
    }
   ],
   "source": [
    "# Your code here\n",
    "plt.figure(figsize=(12,12))\n",
    "plt.scatter(X[:,0], X[:,1] , c=fit.labels_, s=20, cmap='viridis');\n",
    "plt.xlabel(\"First principal component\")\n",
    "plt.ylabel(\"Second principal component\")\n",
    "plt.title(\"Six clusters found by KMeans\")\n",
    "plt.show()"
   ]
  },
  {
   "cell_type": "markdown",
   "metadata": {},
   "source": [
    "Look at the correspondence between the cluster marks and the original class labels and what kinds of activities the `KMeans` algorithm is confused at."
   ]
  },
  {
   "cell_type": "code",
   "execution_count": 27,
   "metadata": {},
   "outputs": [
    {
     "data": {
      "text/html": [
       "<div>\n",
       "<style scoped>\n",
       "    .dataframe tbody tr th:only-of-type {\n",
       "        vertical-align: middle;\n",
       "    }\n",
       "\n",
       "    .dataframe tbody tr th {\n",
       "        vertical-align: top;\n",
       "    }\n",
       "\n",
       "    .dataframe thead th {\n",
       "        text-align: right;\n",
       "    }\n",
       "</style>\n",
       "<table border=\"1\" class=\"dataframe\">\n",
       "  <thead>\n",
       "    <tr style=\"text-align: right;\">\n",
       "      <th></th>\n",
       "      <th>cluster1</th>\n",
       "      <th>cluster2</th>\n",
       "      <th>cluster3</th>\n",
       "      <th>cluster4</th>\n",
       "      <th>cluster5</th>\n",
       "      <th>cluster6</th>\n",
       "      <th>all</th>\n",
       "    </tr>\n",
       "  </thead>\n",
       "  <tbody>\n",
       "    <tr>\n",
       "      <th>walking</th>\n",
       "      <td>742</td>\n",
       "      <td>0</td>\n",
       "      <td>902</td>\n",
       "      <td>0</td>\n",
       "      <td>0</td>\n",
       "      <td>78</td>\n",
       "      <td>1722</td>\n",
       "    </tr>\n",
       "    <tr>\n",
       "      <th>going up the stairs</th>\n",
       "      <td>298</td>\n",
       "      <td>0</td>\n",
       "      <td>1239</td>\n",
       "      <td>2</td>\n",
       "      <td>0</td>\n",
       "      <td>5</td>\n",
       "      <td>1544</td>\n",
       "    </tr>\n",
       "    <tr>\n",
       "      <th>going down the stairs</th>\n",
       "      <td>890</td>\n",
       "      <td>0</td>\n",
       "      <td>320</td>\n",
       "      <td>0</td>\n",
       "      <td>0</td>\n",
       "      <td>196</td>\n",
       "      <td>1406</td>\n",
       "    </tr>\n",
       "    <tr>\n",
       "      <th>sitting</th>\n",
       "      <td>0</td>\n",
       "      <td>1234</td>\n",
       "      <td>1</td>\n",
       "      <td>451</td>\n",
       "      <td>91</td>\n",
       "      <td>0</td>\n",
       "      <td>1777</td>\n",
       "    </tr>\n",
       "    <tr>\n",
       "      <th>standing</th>\n",
       "      <td>0</td>\n",
       "      <td>1344</td>\n",
       "      <td>0</td>\n",
       "      <td>562</td>\n",
       "      <td>0</td>\n",
       "      <td>0</td>\n",
       "      <td>1906</td>\n",
       "    </tr>\n",
       "    <tr>\n",
       "      <th>laying</th>\n",
       "      <td>0</td>\n",
       "      <td>53</td>\n",
       "      <td>5</td>\n",
       "      <td>329</td>\n",
       "      <td>1557</td>\n",
       "      <td>0</td>\n",
       "      <td>1944</td>\n",
       "    </tr>\n",
       "    <tr>\n",
       "      <th>all</th>\n",
       "      <td>1930</td>\n",
       "      <td>2631</td>\n",
       "      <td>2467</td>\n",
       "      <td>1344</td>\n",
       "      <td>1648</td>\n",
       "      <td>279</td>\n",
       "      <td>10299</td>\n",
       "    </tr>\n",
       "  </tbody>\n",
       "</table>\n",
       "</div>"
      ],
      "text/plain": [
       "                       cluster1  cluster2  cluster3  cluster4  cluster5  \\\n",
       "walking                     742         0       902         0         0   \n",
       "going up the stairs         298         0      1239         2         0   \n",
       "going down the stairs       890         0       320         0         0   \n",
       "sitting                       0      1234         1       451        91   \n",
       "standing                      0      1344         0       562         0   \n",
       "laying                        0        53         5       329      1557   \n",
       "all                        1930      2631      2467      1344      1648   \n",
       "\n",
       "                       cluster6    all  \n",
       "walking                      78   1722  \n",
       "going up the stairs           5   1544  \n",
       "going down the stairs       196   1406  \n",
       "sitting                       0   1777  \n",
       "standing                      0   1906  \n",
       "laying                        0   1944  \n",
       "all                         279  10299  "
      ]
     },
     "execution_count": 27,
     "metadata": {},
     "output_type": "execute_result"
    }
   ],
   "source": [
    "tab = pd.crosstab(y, fit.labels_, margins=True)\n",
    "tab.index = ['walking', 'going up the stairs',\n",
    "             'going down the stairs', 'sitting', 'standing', 'laying', 'all']\n",
    "tab.columns = ['cluster' + str(i + 1) for i in range(6)] + ['all']\n",
    "tab"
   ]
  },
  {
   "cell_type": "code",
   "execution_count": 28,
   "metadata": {},
   "outputs": [
    {
     "data": {
      "text/html": [
       "<div>\n",
       "<style scoped>\n",
       "    .dataframe tbody tr th:only-of-type {\n",
       "        vertical-align: middle;\n",
       "    }\n",
       "\n",
       "    .dataframe tbody tr th {\n",
       "        vertical-align: top;\n",
       "    }\n",
       "\n",
       "    .dataframe thead th {\n",
       "        text-align: right;\n",
       "    }\n",
       "</style>\n",
       "<table border=\"1\" class=\"dataframe\">\n",
       "  <thead>\n",
       "    <tr style=\"text-align: right;\">\n",
       "      <th></th>\n",
       "      <th>cluster1</th>\n",
       "      <th>cluster2</th>\n",
       "      <th>cluster3</th>\n",
       "      <th>cluster4</th>\n",
       "      <th>cluster5</th>\n",
       "      <th>cluster6</th>\n",
       "    </tr>\n",
       "  </thead>\n",
       "  <tbody>\n",
       "    <tr>\n",
       "      <th>walking</th>\n",
       "      <td>43.1</td>\n",
       "      <td>0.0</td>\n",
       "      <td>52.4</td>\n",
       "      <td>0.0</td>\n",
       "      <td>0.0</td>\n",
       "      <td>4.5</td>\n",
       "    </tr>\n",
       "    <tr>\n",
       "      <th>going up the stairs</th>\n",
       "      <td>19.3</td>\n",
       "      <td>0.0</td>\n",
       "      <td>80.2</td>\n",
       "      <td>0.1</td>\n",
       "      <td>0.0</td>\n",
       "      <td>0.3</td>\n",
       "    </tr>\n",
       "    <tr>\n",
       "      <th>going down the stairs</th>\n",
       "      <td>63.3</td>\n",
       "      <td>0.0</td>\n",
       "      <td>22.8</td>\n",
       "      <td>0.0</td>\n",
       "      <td>0.0</td>\n",
       "      <td>13.9</td>\n",
       "    </tr>\n",
       "    <tr>\n",
       "      <th>sitting</th>\n",
       "      <td>0.0</td>\n",
       "      <td>69.4</td>\n",
       "      <td>0.1</td>\n",
       "      <td>25.4</td>\n",
       "      <td>5.1</td>\n",
       "      <td>0.0</td>\n",
       "    </tr>\n",
       "    <tr>\n",
       "      <th>standing</th>\n",
       "      <td>0.0</td>\n",
       "      <td>70.5</td>\n",
       "      <td>0.0</td>\n",
       "      <td>29.5</td>\n",
       "      <td>0.0</td>\n",
       "      <td>0.0</td>\n",
       "    </tr>\n",
       "    <tr>\n",
       "      <th>laying</th>\n",
       "      <td>0.0</td>\n",
       "      <td>2.7</td>\n",
       "      <td>0.3</td>\n",
       "      <td>16.9</td>\n",
       "      <td>80.1</td>\n",
       "      <td>0.0</td>\n",
       "    </tr>\n",
       "  </tbody>\n",
       "</table>\n",
       "</div>"
      ],
      "text/plain": [
       "                       cluster1  cluster2  cluster3  cluster4  cluster5  \\\n",
       "walking                    43.1       0.0      52.4       0.0       0.0   \n",
       "going up the stairs        19.3       0.0      80.2       0.1       0.0   \n",
       "going down the stairs      63.3       0.0      22.8       0.0       0.0   \n",
       "sitting                     0.0      69.4       0.1      25.4       5.1   \n",
       "standing                    0.0      70.5       0.0      29.5       0.0   \n",
       "laying                      0.0       2.7       0.3      16.9      80.1   \n",
       "\n",
       "                       cluster6  \n",
       "walking                     4.5  \n",
       "going up the stairs         0.3  \n",
       "going down the stairs      13.9  \n",
       "sitting                     0.0  \n",
       "standing                    0.0  \n",
       "laying                      0.0  "
      ]
     },
     "execution_count": 28,
     "metadata": {},
     "output_type": "execute_result"
    }
   ],
   "source": [
    "tab = np.round(pd.crosstab(y, fit.labels_, normalize=\"index\")*100, 1)\n",
    "tab.index = ['walking', 'going up the stairs',\n",
    "             'going down the stairs', 'sitting', 'standing', 'laying']\n",
    "tab.columns = ['cluster' + str(i + 1) for i in range(6)]\n",
    "tab"
   ]
  },
  {
   "cell_type": "code",
   "execution_count": 29,
   "metadata": {},
   "outputs": [
    {
     "data": {
      "text/plain": [
       "<matplotlib.axes._subplots.AxesSubplot at 0x7f56e0cce690>"
      ]
     },
     "execution_count": 29,
     "metadata": {},
     "output_type": "execute_result"
    },
    {
     "data": {
      "image/png": "[encoded data removed]",
      "text/plain": [
       "<Figure size 720x576 with 2 Axes>"
      ]
     },
     "metadata": {
      "needs_background": "light"
     },
     "output_type": "display_data"
    }
   ],
   "source": [
    "import seaborn as sns\n",
    "plt.figure(figsize=(10,8))\n",
    "sns.heatmap(tab, annot=True)"
   ]
  },
  {
   "cell_type": "markdown",
   "metadata": {},
   "source": [
    "We see that for each class (i.e., each activity) there are several clusters. Let's look at the maximum percentage of objects in a class that are assigned to a single cluster. This will be a simple metric that characterizes how easily the class is separated from others when clustering.\n",
    "\n",
    "Example: if for class \"walking downstairs\" (with 1406 instances belonging to it), the distribution of clusters is:\n",
    " - cluster 1 - 900\n",
    " - cluster 3 - 500\n",
    " - cluster 6 - 6,\n",
    " \n",
    "then such a share will be 900/1406 $ \\approx $ 0.64.\n",
    " \n",
    "\n",
    "** Question 4: ** <br>\n",
    "Which activity is separated from the rest better than others based on the simple metric described above? <br>\n",
    "\n",
    "**Answer:**\n",
    "- walking\n",
    "- standing\n",
    "- walking downstairs\n",
    "- all three options are incorrect"
   ]
  },
  {
   "cell_type": "markdown",
   "metadata": {},
   "source": [
    "It can be seen that kMeans does not distinguish activities very well. Use the elbow method to select the optimal number of clusters. Parameters of the algorithm and the data we use are the same as before, we change only `n_clusters`."
   ]
  },
  {
   "cell_type": "code",
   "execution_count": 30,
   "metadata": {},
   "outputs": [
    {
     "data": {
      "application/vnd.jupyter.widget-view+json": {
       "model_id": "",
       "version_major": 2,
       "version_minor": 0
      },
      "text/plain": [
       "HBox(children=(IntProgress(value=0, max=6), HTML(value='')))"
      ]
     },
     "metadata": {},
     "output_type": "display_data"
    },
    {
     "name": "stdout",
     "output_type": "stream",
     "text": [
      "\n"
     ]
    }
   ],
   "source": [
    "# # Your code here\n",
    "inertia = []\n",
    "for k in tqdm_notebook(range(1, n_classes + 1)):\n",
    "    km = KMeans(n_clusters=k, random_state=RANDOM_STATE).fit(X)\n",
    "    inertia.append(np.sqrt(km.inertia_))"
   ]
  },
  {
   "cell_type": "code",
   "execution_count": 31,
   "metadata": {},
   "outputs": [
    {
     "data": {
      "image/png": "[encoded data removed]",
      "text/plain": [
       "<Figure size 576x432 with 1 Axes>"
      ]
     },
     "metadata": {
      "needs_background": "light"
     },
     "output_type": "display_data"
    }
   ],
   "source": [
    "plt.figure(figsize=(8, 6))\n",
    "plt.plot(range(1,n_classes + 1), inertia, marker=\"s\")\n",
    "plt.xlabel('$k$')\n",
    "plt.ylabel('$C_k$')\n",
    "plt.show()"
   ]
  },
  {
   "cell_type": "markdown",
   "metadata": {},
   "source": [
    "** Question 5: ** <br>\n",
    "How many clusters can we choose according to the elbow method? <br>\n",
    "\n",
    "**Answer options:**\n",
    "- 1\n",
    "- 2\n",
    "- 3\n",
    "- 4"
   ]
  },
  {
   "cell_type": "markdown",
   "metadata": {},
   "source": [
    "Answer:\n",
    "\n",
    "\n",
    "`2` clusters"
   ]
  },
  {
   "cell_type": "markdown",
   "metadata": {},
   "source": [
    "------------------------"
   ]
  },
  {
   "cell_type": "markdown",
   "metadata": {},
   "source": [
    "Let's try another clustering algorithm, described in the article – agglomerative clustering."
   ]
  },
  {
   "cell_type": "code",
   "execution_count": 32,
   "metadata": {},
   "outputs": [],
   "source": [
    "from sklearn.cluster import AgglomerativeClustering\n",
    "from sklearn.metrics import adjusted_rand_score\n",
    "ag = AgglomerativeClustering(n_clusters=n_classes, \n",
    "                              linkage='ward').fit(X)"
   ]
  },
  {
   "cell_type": "markdown",
   "metadata": {},
   "source": [
    "Calculate the Adjusted Rand Index (`sklearn.metrics`) for the resulting clustering and for ` KMeans` with the parameters from the 4th question."
   ]
  },
  {
   "cell_type": "code",
   "execution_count": 33,
   "metadata": {},
   "outputs": [
    {
     "name": "stdout",
     "output_type": "stream",
     "text": [
      "ARI for Agglomerative Clustering 0.45448\n"
     ]
    }
   ],
   "source": [
    "# Your code here\n",
    "# For Agglomerative clustering\n",
    "print(\"ARI for Agglomerative Clustering {}\".format(np.round(adjusted_rand_score(ag.labels_, y),5)))"
   ]
  },
  {
   "cell_type": "code",
   "execution_count": 34,
   "metadata": {},
   "outputs": [
    {
     "name": "stdout",
     "output_type": "stream",
     "text": [
      "ARI for KMeans: 0.41934\n"
     ]
    }
   ],
   "source": [
    "# For KMeans\n",
    "print(\"ARI for KMeans: {}\".format(np.round(adjusted_rand_score(kmeans.labels_,y),5)))"
   ]
  },
  {
   "cell_type": "markdown",
   "metadata": {},
   "source": [
    "** Question 6: ** <br>\n",
    "Select all the correct statements. <br>\n",
    "\n",
    "** Answer options: **\n",
    "- According to ARI, KMeans handled clustering worse than Agglomerative Clustering \n",
    "- For ARI, it does not matter which tags are assigned to the cluster, only the partitioning of instances into clusters matters \n",
    "- In case of random partitioning into clusters, ARI will be close to zero "
   ]
  },
  {
   "cell_type": "markdown",
   "metadata": {},
   "source": [
    "Answer:\n",
    "\n",
    "Only answers `1` and `2` are correct. In case of random partitioning we would expect independence of splits, which would result in a negative Adjusted Rand Index close to -1."
   ]
  },
  {
   "cell_type": "markdown",
   "metadata": {},
   "source": [
    "-------------------------------"
   ]
  },
  {
   "cell_type": "markdown",
   "metadata": {},
   "source": [
    "You can notice that the task is not very well solved when we try to detect several clusters (> 2). Now, let's solve the classification problem, given that the data is labeled.\n",
    "\n",
    "For classification, use the support vector machine – class `sklearn.svm.LinearSVC`. In this course, we didn't study this algorithm separately, but it is well-known and you can read about it, for example [here](http://cs231n.github.io/linear-classify/#svmvssoftmax).\n",
    "\n",
    "Choose the `C` hyperparameter for` LinearSVC` using `GridSearchCV`.\n",
    "\n",
    "- Train the new `StandardScaler` on the training set (with all original features), apply scaling to the test set\n",
    "- In `GridSearchCV`, specify `cv` = 3."
   ]
  },
  {
   "cell_type": "code",
   "execution_count": 61,
   "metadata": {},
   "outputs": [],
   "source": [
    "# # Your code here\n",
    "from sklearn.svm import LinearSVC\n",
    "\n",
    "scaler = StandardScaler()\n",
    "X_train_scaled = scaler.fit_transform(X_train)\n",
    "X_test_scaled = scaler.fit_transform(X_test)"
   ]
  },
  {
   "cell_type": "code",
   "execution_count": 62,
   "metadata": {},
   "outputs": [
    {
     "name": "stdout",
     "output_type": "stream",
     "text": [
      "CPU times: user 5.34 s, sys: 26.9 ms, total: 5.36 s\n",
      "Wall time: 31.2 s\n"
     ]
    },
    {
     "name": "stderr",
     "output_type": "stream",
     "text": [
      "/home/den/anaconda3/envs/deeplearning/lib/python3.7/site-packages/sklearn/svm/base.py:929: ConvergenceWarning: Liblinear failed to converge, increase the number of iterations.\n",
      "  \"the number of iterations.\", ConvergenceWarning)\n"
     ]
    }
   ],
   "source": [
    "%%time\n",
    "# Your code here\n",
    "svc_params = {'C': [0.001, 0.01, 0.1, 1, 10]}\n",
    "svm_grid = GridSearchCV(LinearSVC(random_state=RANDOM_STATE), cv=3, n_jobs=-1, param_grid=svc_params)\n",
    "best_svc = svm_grid.fit(X_train_scaled, y_train)"
   ]
  },
  {
   "cell_type": "code",
   "execution_count": 63,
   "metadata": {},
   "outputs": [
    {
     "data": {
      "text/plain": [
       "({'C': 0.1}, 0.9382480957562568)"
      ]
     },
     "execution_count": 63,
     "metadata": {},
     "output_type": "execute_result"
    }
   ],
   "source": [
    "best_svc.best_params_, best_svc.best_score_"
   ]
  },
  {
   "cell_type": "markdown",
   "metadata": {},
   "source": [
    "**Question 7**<br>\n",
    "Which value of the hyperparameter `C` was chosen the best on the basis of cross-validation? <br>\n",
    "\n",
    "**Answer options:**\n",
    "- 0.001\n",
    "- 0.01\n",
    "- 0.1 \n",
    "- 1\n",
    "- 10"
   ]
  },
  {
   "cell_type": "markdown",
   "metadata": {},
   "source": [
    "Answer:\n",
    "\n",
    "The best value for hyperparameter `C` based on cross-validation is\n",
    "*  0.1"
   ]
  },
  {
   "cell_type": "code",
   "execution_count": 64,
   "metadata": {},
   "outputs": [],
   "source": [
    "y_predicted = best_svc.predict(X_test_scaled)"
   ]
  },
  {
   "cell_type": "code",
   "execution_count": 71,
   "metadata": {},
   "outputs": [
    {
     "data": {
      "text/html": [
       "<div>\n",
       "<style scoped>\n",
       "    .dataframe tbody tr th:only-of-type {\n",
       "        vertical-align: middle;\n",
       "    }\n",
       "\n",
       "    .dataframe tbody tr th {\n",
       "        vertical-align: top;\n",
       "    }\n",
       "\n",
       "    .dataframe thead th {\n",
       "        text-align: right;\n",
       "    }\n",
       "</style>\n",
       "<table border=\"1\" class=\"dataframe\">\n",
       "  <thead>\n",
       "    <tr style=\"text-align: right;\">\n",
       "      <th></th>\n",
       "      <th>walking</th>\n",
       "      <th>climbing up the stairs</th>\n",
       "      <th>going down the stairs</th>\n",
       "      <th>sitting</th>\n",
       "      <th>standing</th>\n",
       "      <th>laying</th>\n",
       "      <th>all</th>\n",
       "    </tr>\n",
       "  </thead>\n",
       "  <tbody>\n",
       "    <tr>\n",
       "      <th>walking</th>\n",
       "      <td>479</td>\n",
       "      <td>11</td>\n",
       "      <td>4</td>\n",
       "      <td>2</td>\n",
       "      <td>0</td>\n",
       "      <td>0</td>\n",
       "      <td>496</td>\n",
       "    </tr>\n",
       "    <tr>\n",
       "      <th>climbing up the stairs</th>\n",
       "      <td>4</td>\n",
       "      <td>465</td>\n",
       "      <td>1</td>\n",
       "      <td>1</td>\n",
       "      <td>0</td>\n",
       "      <td>0</td>\n",
       "      <td>471</td>\n",
       "    </tr>\n",
       "    <tr>\n",
       "      <th>going down the stairs</th>\n",
       "      <td>1</td>\n",
       "      <td>2</td>\n",
       "      <td>416</td>\n",
       "      <td>1</td>\n",
       "      <td>0</td>\n",
       "      <td>0</td>\n",
       "      <td>420</td>\n",
       "    </tr>\n",
       "    <tr>\n",
       "      <th>sitting</th>\n",
       "      <td>0</td>\n",
       "      <td>4</td>\n",
       "      <td>0</td>\n",
       "      <td>433</td>\n",
       "      <td>52</td>\n",
       "      <td>2</td>\n",
       "      <td>491</td>\n",
       "    </tr>\n",
       "    <tr>\n",
       "      <th>standing</th>\n",
       "      <td>0</td>\n",
       "      <td>0</td>\n",
       "      <td>0</td>\n",
       "      <td>16</td>\n",
       "      <td>516</td>\n",
       "      <td>0</td>\n",
       "      <td>532</td>\n",
       "    </tr>\n",
       "    <tr>\n",
       "      <th>laying</th>\n",
       "      <td>0</td>\n",
       "      <td>0</td>\n",
       "      <td>0</td>\n",
       "      <td>0</td>\n",
       "      <td>6</td>\n",
       "      <td>531</td>\n",
       "      <td>537</td>\n",
       "    </tr>\n",
       "    <tr>\n",
       "      <th>all</th>\n",
       "      <td>484</td>\n",
       "      <td>482</td>\n",
       "      <td>421</td>\n",
       "      <td>453</td>\n",
       "      <td>574</td>\n",
       "      <td>533</td>\n",
       "      <td>2947</td>\n",
       "    </tr>\n",
       "  </tbody>\n",
       "</table>\n",
       "</div>"
      ],
      "text/plain": [
       "                        walking  climbing up the stairs  \\\n",
       "walking                     479                      11   \n",
       "climbing up the stairs        4                     465   \n",
       "going down the stairs         1                       2   \n",
       "sitting                       0                       4   \n",
       "standing                      0                       0   \n",
       "laying                        0                       0   \n",
       "all                         484                     482   \n",
       "\n",
       "                        going down the stairs  sitting  standing  laying   all  \n",
       "walking                                     4        2         0       0   496  \n",
       "climbing up the stairs                      1        1         0       0   471  \n",
       "going down the stairs                     416        1         0       0   420  \n",
       "sitting                                     0      433        52       2   491  \n",
       "standing                                    0       16       516       0   532  \n",
       "laying                                      0        0         6     531   537  \n",
       "all                                       421      453       574     533  2947  "
      ]
     },
     "execution_count": 71,
     "metadata": {},
     "output_type": "execute_result"
    }
   ],
   "source": [
    "tab = pd.crosstab(y_test, y_predicted, margins=True)\n",
    "tab.index = ['walking', 'climbing up the stairs',\n",
    "             'going down the stairs', 'sitting', 'standing', 'laying', 'all']\n",
    "tab.columns = ['walking', 'climbing up the stairs',\n",
    "             'going down the stairs', 'sitting', 'standing', 'laying', 'all']\n",
    "tab"
   ]
  },
  {
   "cell_type": "markdown",
   "metadata": {},
   "source": [
    "** Question 8: ** <br>\n",
    "Which activity type is worst detected by SVM in terms of precision? Recall?<br>\n",
    "\n",
    "**Answer options:**\n",
    "- precision – going up the stairs, recall – laying\n",
    "- precision – laying, recall – sitting\n",
    "- precision – walking, recall – walking\n",
    "- precision – standing, recall – sitting "
   ]
  },
  {
   "cell_type": "markdown",
   "metadata": {},
   "source": [
    "Finally, do the same thing as in Question 7, but add PCA.\n",
    "\n",
    "- Use `X_train_scaled` and` X_test_scaled`\n",
    "- Train the same PCA as before, on the scaled training set, apply scaling to the test set\n",
    "- Choose the hyperparameter `C` via cross-validation on the training set with PCA-transformation. You will notice how much faster it works now.\n",
    "\n",
    "** Question 9: ** <br>\n",
    "What is the difference between the best quality (accuracy) for cross-validation in the case of all 561 initial characteristics and in the second case, when the principal component method was applied? Round to the nearest percent. <br>\n",
    "\n",
    "** Options: **\n",
    "- quality is the same\n",
    "- 2%\n",
    "- 4%\n",
    "- 10%\n",
    "- 20%"
   ]
  },
  {
   "cell_type": "code",
   "execution_count": 41,
   "metadata": {},
   "outputs": [],
   "source": [
    "# Your code here"
   ]
  },
  {
   "cell_type": "markdown",
   "metadata": {},
   "source": [
    "** Question 10: ** <br>\n",
    "Select all the correct statements:\n",
    "\n",
    "** Answer options: **\n",
    "- Principal component analysis in this case allowed to reduce the model training time, while the quality (mean cross-validation accuracy) suffered greatly, by more than 10%\n",
    "- PCA can be used to visualize data, but there are better methods for this task, for example, tSNE. However, PCA has lower computational complexity \n",
    "- PCA builds linear combinations of initial features, and in some applications they might be poorly interpreted by humans "
   ]
  },
  {
   "cell_type": "markdown",
   "metadata": {},
   "source": [
    "Authors: [Olga Daykhovskaya](https://www.linkedin.com/in/odaykhovskaya/), [Yury Kashnitskiy](https://yorko.github.io). This material is subject to the terms and conditions of the [Creative Commons CC BY-NC-SA 4.0](https://creativecommons.org/licenses/by-nc-sa/4.0/) license. Free use is permitted for any non-commercial purpose."
   ]
  }
 ],
 "metadata": {
  "anaconda-cloud": {},
  "kernelspec": {
   "display_name": "Python 3",
   "language": "python",
   "name": "python3"
  },
  "language_info": {
   "codemirror_mode": {
    "name": "ipython",
    "version": 3
   },
   "file_extension": ".py",
   "mimetype": "text/x-python",
   "name": "python",
   "nbconvert_exporter": "python",
   "pygments_lexer": "ipython3",
   "version": "3.7.4"
  }
 },
 "nbformat": 4,
 "nbformat_minor": 4
}
