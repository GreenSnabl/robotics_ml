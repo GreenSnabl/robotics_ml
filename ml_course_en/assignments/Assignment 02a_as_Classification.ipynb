{
 "cells": [
  {
   "cell_type": "markdown",
   "metadata": {},
   "source": [
    "## Assignment 02a - Linear Regression, Regularization and Polynomial Regression"
   ]
  },
  {
   "cell_type": "markdown",
   "metadata": {},
   "source": [
    "Group:\n",
    "\n",
    "*  Jannik Bucher\n",
    "*  Dennis Imhof"
   ]
  },
  {
   "cell_type": "markdown",
   "metadata": {},
   "source": [
    "### Using dataset: SkillCraft1 Master Table Dataset\n",
    "[SkillCraft1 on UCI Machine Learning Repository](https://archive.ics.uci.edu/ml/datasets/SkillCraft1+Master+Table+Dataset#)"
   ]
  },
  {
   "cell_type": "markdown",
   "metadata": {},
   "source": [
    "### Assignments\n",
    "\n",
    "Before performing the practical work, you need download the dataset accordingly to the option on your machine (or cloud service)\n",
    "1. Write a program that splits the original sample into a training set and a test set (training set, validation set, test set) with train_test_split method of Skikit Learn library\n",
    "\n",
    "2. Using the scikit-learn library (http://scikit-learn.org/stable/), train the linear regression model for the training sample (example: http://scikit-learn.org/stable/auto_examples/linear_model/plot_ols.html#sphx-glr-auto-examples-linear-model-plot-ols-py)\n",
    "3. Check the accuracy of the model from the test set\n",
    "\n",
    "4. Build a model using a polynomial function (example: http://scikit-learn.org/stable/auto_examples/model_selection/plot_underfitting_overfitting.html#sphx-glr-auto-examples-model-selection-plot-underfitting-overfitting-py). Build plots with the dependence of the error on the degree of the polynomial function.\n",
    "\n",
    "5. Build a model using regularization (example: http://scikit-learn.org/stable/modules/linear_model.html). On the basis of experiments, select parameters for regularization. Build plots with the dependence of the error on the regularization coefficient."
   ]
  },
  {
   "cell_type": "code",
   "execution_count": 2,
   "metadata": {},
   "outputs": [],
   "source": [
    "import pandas as pd\n",
    "import numpy as np\n",
    "import seaborn as sns\n",
    "import matplotlib.pyplot as plt\n",
    "\n",
    "from sklearn.model_selection import StratifiedKFold, cross_validate, train_test_split\n",
    "from sklearn.linear_model import LinearRegression, LogisticRegression, LogisticRegressionCV\n",
    "from sklearn.neighbors import KNeighborsClassifier\n",
    "from sklearn.preprocessing import PolynomialFeatures\n",
    "from sklearn.metrics import confusion_matrix"
   ]
  },
  {
   "cell_type": "code",
   "execution_count": 3,
   "metadata": {},
   "outputs": [
    {
     "data": {
      "text/html": [
       "<div>\n",
       "<style scoped>\n",
       "    .dataframe tbody tr th:only-of-type {\n",
       "        vertical-align: middle;\n",
       "    }\n",
       "\n",
       "    .dataframe tbody tr th {\n",
       "        vertical-align: top;\n",
       "    }\n",
       "\n",
       "    .dataframe thead th {\n",
       "        text-align: right;\n",
       "    }\n",
       "</style>\n",
       "<table border=\"1\" class=\"dataframe\">\n",
       "  <thead>\n",
       "    <tr style=\"text-align: right;\">\n",
       "      <th></th>\n",
       "      <th>GameID</th>\n",
       "      <th>LeagueIndex</th>\n",
       "      <th>Age</th>\n",
       "      <th>HoursPerWeek</th>\n",
       "      <th>TotalHours</th>\n",
       "      <th>APM</th>\n",
       "      <th>SelectByHotkeys</th>\n",
       "      <th>AssignToHotkeys</th>\n",
       "      <th>UniqueHotkeys</th>\n",
       "      <th>MinimapAttacks</th>\n",
       "      <th>MinimapRightClicks</th>\n",
       "      <th>NumberOfPACs</th>\n",
       "      <th>GapBetweenPACs</th>\n",
       "      <th>ActionLatency</th>\n",
       "      <th>ActionsInPAC</th>\n",
       "      <th>TotalMapExplored</th>\n",
       "      <th>WorkersMade</th>\n",
       "      <th>UniqueUnitsMade</th>\n",
       "      <th>ComplexUnitsMade</th>\n",
       "      <th>ComplexAbilitiesUsed</th>\n",
       "    </tr>\n",
       "  </thead>\n",
       "  <tbody>\n",
       "    <tr>\n",
       "      <th>0</th>\n",
       "      <td>52</td>\n",
       "      <td>5</td>\n",
       "      <td>27</td>\n",
       "      <td>10</td>\n",
       "      <td>3000</td>\n",
       "      <td>143.7180</td>\n",
       "      <td>0.003515</td>\n",
       "      <td>0.000220</td>\n",
       "      <td>7</td>\n",
       "      <td>0.000110</td>\n",
       "      <td>0.000392</td>\n",
       "      <td>0.004849</td>\n",
       "      <td>32.6677</td>\n",
       "      <td>40.8673</td>\n",
       "      <td>4.7508</td>\n",
       "      <td>28</td>\n",
       "      <td>0.001397</td>\n",
       "      <td>6</td>\n",
       "      <td>0.0</td>\n",
       "      <td>0.000000</td>\n",
       "    </tr>\n",
       "    <tr>\n",
       "      <th>1</th>\n",
       "      <td>55</td>\n",
       "      <td>5</td>\n",
       "      <td>23</td>\n",
       "      <td>10</td>\n",
       "      <td>5000</td>\n",
       "      <td>129.2322</td>\n",
       "      <td>0.003304</td>\n",
       "      <td>0.000259</td>\n",
       "      <td>4</td>\n",
       "      <td>0.000294</td>\n",
       "      <td>0.000432</td>\n",
       "      <td>0.004307</td>\n",
       "      <td>32.9194</td>\n",
       "      <td>42.3454</td>\n",
       "      <td>4.8434</td>\n",
       "      <td>22</td>\n",
       "      <td>0.001194</td>\n",
       "      <td>5</td>\n",
       "      <td>0.0</td>\n",
       "      <td>0.000208</td>\n",
       "    </tr>\n",
       "    <tr>\n",
       "      <th>2</th>\n",
       "      <td>56</td>\n",
       "      <td>4</td>\n",
       "      <td>30</td>\n",
       "      <td>10</td>\n",
       "      <td>200</td>\n",
       "      <td>69.9612</td>\n",
       "      <td>0.001101</td>\n",
       "      <td>0.000336</td>\n",
       "      <td>4</td>\n",
       "      <td>0.000294</td>\n",
       "      <td>0.000461</td>\n",
       "      <td>0.002926</td>\n",
       "      <td>44.6475</td>\n",
       "      <td>75.3548</td>\n",
       "      <td>4.0430</td>\n",
       "      <td>22</td>\n",
       "      <td>0.000745</td>\n",
       "      <td>6</td>\n",
       "      <td>0.0</td>\n",
       "      <td>0.000189</td>\n",
       "    </tr>\n",
       "    <tr>\n",
       "      <th>3</th>\n",
       "      <td>57</td>\n",
       "      <td>3</td>\n",
       "      <td>19</td>\n",
       "      <td>20</td>\n",
       "      <td>400</td>\n",
       "      <td>107.6016</td>\n",
       "      <td>0.001034</td>\n",
       "      <td>0.000213</td>\n",
       "      <td>1</td>\n",
       "      <td>0.000053</td>\n",
       "      <td>0.000543</td>\n",
       "      <td>0.003783</td>\n",
       "      <td>29.2203</td>\n",
       "      <td>53.7352</td>\n",
       "      <td>4.9155</td>\n",
       "      <td>19</td>\n",
       "      <td>0.000426</td>\n",
       "      <td>7</td>\n",
       "      <td>0.0</td>\n",
       "      <td>0.000384</td>\n",
       "    </tr>\n",
       "    <tr>\n",
       "      <th>4</th>\n",
       "      <td>58</td>\n",
       "      <td>3</td>\n",
       "      <td>32</td>\n",
       "      <td>10</td>\n",
       "      <td>500</td>\n",
       "      <td>122.8908</td>\n",
       "      <td>0.001136</td>\n",
       "      <td>0.000327</td>\n",
       "      <td>2</td>\n",
       "      <td>0.000000</td>\n",
       "      <td>0.001329</td>\n",
       "      <td>0.002368</td>\n",
       "      <td>22.6885</td>\n",
       "      <td>62.0813</td>\n",
       "      <td>9.3740</td>\n",
       "      <td>15</td>\n",
       "      <td>0.001174</td>\n",
       "      <td>4</td>\n",
       "      <td>0.0</td>\n",
       "      <td>0.000019</td>\n",
       "    </tr>\n",
       "  </tbody>\n",
       "</table>\n",
       "</div>"
      ],
      "text/plain": [
       "   GameID  LeagueIndex Age HoursPerWeek TotalHours       APM  SelectByHotkeys  \\\n",
       "0      52            5  27           10       3000  143.7180         0.003515   \n",
       "1      55            5  23           10       5000  129.2322         0.003304   \n",
       "2      56            4  30           10        200   69.9612         0.001101   \n",
       "3      57            3  19           20        400  107.6016         0.001034   \n",
       "4      58            3  32           10        500  122.8908         0.001136   \n",
       "\n",
       "   AssignToHotkeys  UniqueHotkeys  MinimapAttacks  MinimapRightClicks  \\\n",
       "0         0.000220              7        0.000110            0.000392   \n",
       "1         0.000259              4        0.000294            0.000432   \n",
       "2         0.000336              4        0.000294            0.000461   \n",
       "3         0.000213              1        0.000053            0.000543   \n",
       "4         0.000327              2        0.000000            0.001329   \n",
       "\n",
       "   NumberOfPACs  GapBetweenPACs  ActionLatency  ActionsInPAC  \\\n",
       "0      0.004849         32.6677        40.8673        4.7508   \n",
       "1      0.004307         32.9194        42.3454        4.8434   \n",
       "2      0.002926         44.6475        75.3548        4.0430   \n",
       "3      0.003783         29.2203        53.7352        4.9155   \n",
       "4      0.002368         22.6885        62.0813        9.3740   \n",
       "\n",
       "   TotalMapExplored  WorkersMade  UniqueUnitsMade  ComplexUnitsMade  \\\n",
       "0                28     0.001397                6               0.0   \n",
       "1                22     0.001194                5               0.0   \n",
       "2                22     0.000745                6               0.0   \n",
       "3                19     0.000426                7               0.0   \n",
       "4                15     0.001174                4               0.0   \n",
       "\n",
       "   ComplexAbilitiesUsed  \n",
       "0              0.000000  \n",
       "1              0.000208  \n",
       "2              0.000189  \n",
       "3              0.000384  \n",
       "4              0.000019  "
      ]
     },
     "execution_count": 3,
     "metadata": {},
     "output_type": "execute_result"
    }
   ],
   "source": [
    "df = pd.read_csv(\"data/SkillCraft1_Dataset.csv\")\n",
    "df.head()"
   ]
  },
  {
   "cell_type": "code",
   "execution_count": 4,
   "metadata": {},
   "outputs": [
    {
     "data": {
      "text/html": [
       "<div>\n",
       "<style scoped>\n",
       "    .dataframe tbody tr th:only-of-type {\n",
       "        vertical-align: middle;\n",
       "    }\n",
       "\n",
       "    .dataframe tbody tr th {\n",
       "        vertical-align: top;\n",
       "    }\n",
       "\n",
       "    .dataframe thead th {\n",
       "        text-align: right;\n",
       "    }\n",
       "</style>\n",
       "<table border=\"1\" class=\"dataframe\">\n",
       "  <thead>\n",
       "    <tr style=\"text-align: right;\">\n",
       "      <th></th>\n",
       "      <th>GameID</th>\n",
       "      <th>LeagueIndex</th>\n",
       "      <th>APM</th>\n",
       "      <th>SelectByHotkeys</th>\n",
       "      <th>AssignToHotkeys</th>\n",
       "      <th>UniqueHotkeys</th>\n",
       "      <th>MinimapAttacks</th>\n",
       "      <th>MinimapRightClicks</th>\n",
       "      <th>NumberOfPACs</th>\n",
       "      <th>GapBetweenPACs</th>\n",
       "      <th>ActionLatency</th>\n",
       "      <th>ActionsInPAC</th>\n",
       "      <th>TotalMapExplored</th>\n",
       "      <th>WorkersMade</th>\n",
       "      <th>UniqueUnitsMade</th>\n",
       "      <th>ComplexUnitsMade</th>\n",
       "      <th>ComplexAbilitiesUsed</th>\n",
       "    </tr>\n",
       "  </thead>\n",
       "  <tbody>\n",
       "    <tr>\n",
       "      <th>count</th>\n",
       "      <td>3395.000000</td>\n",
       "      <td>3395.000000</td>\n",
       "      <td>3395.000000</td>\n",
       "      <td>3395.000000</td>\n",
       "      <td>3395.000000</td>\n",
       "      <td>3395.000000</td>\n",
       "      <td>3395.000000</td>\n",
       "      <td>3395.000000</td>\n",
       "      <td>3395.000000</td>\n",
       "      <td>3395.000000</td>\n",
       "      <td>3395.000000</td>\n",
       "      <td>3395.000000</td>\n",
       "      <td>3395.000000</td>\n",
       "      <td>3395.000000</td>\n",
       "      <td>3395.000000</td>\n",
       "      <td>3395.000000</td>\n",
       "      <td>3395.000000</td>\n",
       "    </tr>\n",
       "    <tr>\n",
       "      <th>mean</th>\n",
       "      <td>4805.012371</td>\n",
       "      <td>4.184094</td>\n",
       "      <td>117.046947</td>\n",
       "      <td>0.004299</td>\n",
       "      <td>0.000374</td>\n",
       "      <td>4.364654</td>\n",
       "      <td>0.000098</td>\n",
       "      <td>0.000387</td>\n",
       "      <td>0.003463</td>\n",
       "      <td>40.361562</td>\n",
       "      <td>63.739403</td>\n",
       "      <td>5.272988</td>\n",
       "      <td>22.131664</td>\n",
       "      <td>0.001032</td>\n",
       "      <td>6.534021</td>\n",
       "      <td>0.000059</td>\n",
       "      <td>0.000142</td>\n",
       "    </tr>\n",
       "    <tr>\n",
       "      <th>std</th>\n",
       "      <td>2719.944851</td>\n",
       "      <td>1.517327</td>\n",
       "      <td>51.945291</td>\n",
       "      <td>0.005284</td>\n",
       "      <td>0.000225</td>\n",
       "      <td>2.360333</td>\n",
       "      <td>0.000166</td>\n",
       "      <td>0.000377</td>\n",
       "      <td>0.000992</td>\n",
       "      <td>17.153570</td>\n",
       "      <td>19.238869</td>\n",
       "      <td>1.494835</td>\n",
       "      <td>7.431719</td>\n",
       "      <td>0.000519</td>\n",
       "      <td>1.857697</td>\n",
       "      <td>0.000111</td>\n",
       "      <td>0.000265</td>\n",
       "    </tr>\n",
       "    <tr>\n",
       "      <th>min</th>\n",
       "      <td>52.000000</td>\n",
       "      <td>1.000000</td>\n",
       "      <td>22.059600</td>\n",
       "      <td>0.000000</td>\n",
       "      <td>0.000000</td>\n",
       "      <td>0.000000</td>\n",
       "      <td>0.000000</td>\n",
       "      <td>0.000000</td>\n",
       "      <td>0.000679</td>\n",
       "      <td>6.666700</td>\n",
       "      <td>24.093600</td>\n",
       "      <td>2.038900</td>\n",
       "      <td>5.000000</td>\n",
       "      <td>0.000077</td>\n",
       "      <td>2.000000</td>\n",
       "      <td>0.000000</td>\n",
       "      <td>0.000000</td>\n",
       "    </tr>\n",
       "    <tr>\n",
       "      <th>25%</th>\n",
       "      <td>2464.500000</td>\n",
       "      <td>3.000000</td>\n",
       "      <td>79.900200</td>\n",
       "      <td>0.001258</td>\n",
       "      <td>0.000204</td>\n",
       "      <td>3.000000</td>\n",
       "      <td>0.000000</td>\n",
       "      <td>0.000140</td>\n",
       "      <td>0.002754</td>\n",
       "      <td>28.957750</td>\n",
       "      <td>50.446600</td>\n",
       "      <td>4.272850</td>\n",
       "      <td>17.000000</td>\n",
       "      <td>0.000683</td>\n",
       "      <td>5.000000</td>\n",
       "      <td>0.000000</td>\n",
       "      <td>0.000000</td>\n",
       "    </tr>\n",
       "    <tr>\n",
       "      <th>50%</th>\n",
       "      <td>4874.000000</td>\n",
       "      <td>4.000000</td>\n",
       "      <td>108.010200</td>\n",
       "      <td>0.002500</td>\n",
       "      <td>0.000353</td>\n",
       "      <td>4.000000</td>\n",
       "      <td>0.000040</td>\n",
       "      <td>0.000281</td>\n",
       "      <td>0.003395</td>\n",
       "      <td>36.723500</td>\n",
       "      <td>60.931800</td>\n",
       "      <td>5.095500</td>\n",
       "      <td>22.000000</td>\n",
       "      <td>0.000905</td>\n",
       "      <td>6.000000</td>\n",
       "      <td>0.000000</td>\n",
       "      <td>0.000020</td>\n",
       "    </tr>\n",
       "    <tr>\n",
       "      <th>75%</th>\n",
       "      <td>7108.500000</td>\n",
       "      <td>5.000000</td>\n",
       "      <td>142.790400</td>\n",
       "      <td>0.005133</td>\n",
       "      <td>0.000499</td>\n",
       "      <td>6.000000</td>\n",
       "      <td>0.000119</td>\n",
       "      <td>0.000514</td>\n",
       "      <td>0.004027</td>\n",
       "      <td>48.290500</td>\n",
       "      <td>73.681300</td>\n",
       "      <td>6.033600</td>\n",
       "      <td>27.000000</td>\n",
       "      <td>0.001259</td>\n",
       "      <td>8.000000</td>\n",
       "      <td>0.000086</td>\n",
       "      <td>0.000181</td>\n",
       "    </tr>\n",
       "    <tr>\n",
       "      <th>max</th>\n",
       "      <td>10095.000000</td>\n",
       "      <td>8.000000</td>\n",
       "      <td>389.831400</td>\n",
       "      <td>0.043088</td>\n",
       "      <td>0.001752</td>\n",
       "      <td>10.000000</td>\n",
       "      <td>0.003019</td>\n",
       "      <td>0.004041</td>\n",
       "      <td>0.007971</td>\n",
       "      <td>237.142900</td>\n",
       "      <td>176.372100</td>\n",
       "      <td>18.558100</td>\n",
       "      <td>58.000000</td>\n",
       "      <td>0.005149</td>\n",
       "      <td>13.000000</td>\n",
       "      <td>0.000902</td>\n",
       "      <td>0.003084</td>\n",
       "    </tr>\n",
       "  </tbody>\n",
       "</table>\n",
       "</div>"
      ],
      "text/plain": [
       "             GameID  LeagueIndex          APM  SelectByHotkeys  \\\n",
       "count   3395.000000  3395.000000  3395.000000      3395.000000   \n",
       "mean    4805.012371     4.184094   117.046947         0.004299   \n",
       "std     2719.944851     1.517327    51.945291         0.005284   \n",
       "min       52.000000     1.000000    22.059600         0.000000   \n",
       "25%     2464.500000     3.000000    79.900200         0.001258   \n",
       "50%     4874.000000     4.000000   108.010200         0.002500   \n",
       "75%     7108.500000     5.000000   142.790400         0.005133   \n",
       "max    10095.000000     8.000000   389.831400         0.043088   \n",
       "\n",
       "       AssignToHotkeys  UniqueHotkeys  MinimapAttacks  MinimapRightClicks  \\\n",
       "count      3395.000000    3395.000000     3395.000000         3395.000000   \n",
       "mean          0.000374       4.364654        0.000098            0.000387   \n",
       "std           0.000225       2.360333        0.000166            0.000377   \n",
       "min           0.000000       0.000000        0.000000            0.000000   \n",
       "25%           0.000204       3.000000        0.000000            0.000140   \n",
       "50%           0.000353       4.000000        0.000040            0.000281   \n",
       "75%           0.000499       6.000000        0.000119            0.000514   \n",
       "max           0.001752      10.000000        0.003019            0.004041   \n",
       "\n",
       "       NumberOfPACs  GapBetweenPACs  ActionLatency  ActionsInPAC  \\\n",
       "count   3395.000000     3395.000000    3395.000000   3395.000000   \n",
       "mean       0.003463       40.361562      63.739403      5.272988   \n",
       "std        0.000992       17.153570      19.238869      1.494835   \n",
       "min        0.000679        6.666700      24.093600      2.038900   \n",
       "25%        0.002754       28.957750      50.446600      4.272850   \n",
       "50%        0.003395       36.723500      60.931800      5.095500   \n",
       "75%        0.004027       48.290500      73.681300      6.033600   \n",
       "max        0.007971      237.142900     176.372100     18.558100   \n",
       "\n",
       "       TotalMapExplored  WorkersMade  UniqueUnitsMade  ComplexUnitsMade  \\\n",
       "count       3395.000000  3395.000000      3395.000000       3395.000000   \n",
       "mean          22.131664     0.001032         6.534021          0.000059   \n",
       "std            7.431719     0.000519         1.857697          0.000111   \n",
       "min            5.000000     0.000077         2.000000          0.000000   \n",
       "25%           17.000000     0.000683         5.000000          0.000000   \n",
       "50%           22.000000     0.000905         6.000000          0.000000   \n",
       "75%           27.000000     0.001259         8.000000          0.000086   \n",
       "max           58.000000     0.005149        13.000000          0.000902   \n",
       "\n",
       "       ComplexAbilitiesUsed  \n",
       "count           3395.000000  \n",
       "mean               0.000142  \n",
       "std                0.000265  \n",
       "min                0.000000  \n",
       "25%                0.000000  \n",
       "50%                0.000020  \n",
       "75%                0.000181  \n",
       "max                0.003084  "
      ]
     },
     "execution_count": 4,
     "metadata": {},
     "output_type": "execute_result"
    }
   ],
   "source": [
    "df.describe()"
   ]
  },
  {
   "cell_type": "code",
   "execution_count": 5,
   "metadata": {},
   "outputs": [
    {
     "data": {
      "text/plain": [
       "GameID                  False\n",
       "LeagueIndex             False\n",
       "Age                     False\n",
       "HoursPerWeek            False\n",
       "TotalHours              False\n",
       "APM                     False\n",
       "SelectByHotkeys         False\n",
       "AssignToHotkeys         False\n",
       "UniqueHotkeys           False\n",
       "MinimapAttacks          False\n",
       "MinimapRightClicks      False\n",
       "NumberOfPACs            False\n",
       "GapBetweenPACs          False\n",
       "ActionLatency           False\n",
       "ActionsInPAC            False\n",
       "TotalMapExplored        False\n",
       "WorkersMade             False\n",
       "UniqueUnitsMade         False\n",
       "ComplexUnitsMade        False\n",
       "ComplexAbilitiesUsed    False\n",
       "dtype: bool"
      ]
     },
     "execution_count": 5,
     "metadata": {},
     "output_type": "execute_result"
    }
   ],
   "source": [
    "# No missing values in any of the columns\n",
    "df.isnull().any()"
   ]
  },
  {
   "cell_type": "code",
   "execution_count": 6,
   "metadata": {},
   "outputs": [
    {
     "name": "stdout",
     "output_type": "stream",
     "text": [
      "<class 'pandas.core.frame.DataFrame'>\n",
      "RangeIndex: 3395 entries, 0 to 3394\n",
      "Data columns (total 20 columns):\n",
      "GameID                  3395 non-null int64\n",
      "LeagueIndex             3395 non-null int64\n",
      "Age                     3395 non-null object\n",
      "HoursPerWeek            3395 non-null object\n",
      "TotalHours              3395 non-null object\n",
      "APM                     3395 non-null float64\n",
      "SelectByHotkeys         3395 non-null float64\n",
      "AssignToHotkeys         3395 non-null float64\n",
      "UniqueHotkeys           3395 non-null int64\n",
      "MinimapAttacks          3395 non-null float64\n",
      "MinimapRightClicks      3395 non-null float64\n",
      "NumberOfPACs            3395 non-null float64\n",
      "GapBetweenPACs          3395 non-null float64\n",
      "ActionLatency           3395 non-null float64\n",
      "ActionsInPAC            3395 non-null float64\n",
      "TotalMapExplored        3395 non-null int64\n",
      "WorkersMade             3395 non-null float64\n",
      "UniqueUnitsMade         3395 non-null int64\n",
      "ComplexUnitsMade        3395 non-null float64\n",
      "ComplexAbilitiesUsed    3395 non-null float64\n",
      "dtypes: float64(12), int64(5), object(3)\n",
      "memory usage: 530.6+ KB\n"
     ]
    }
   ],
   "source": [
    "df.info()"
   ]
  },
  {
   "cell_type": "code",
   "execution_count": 7,
   "metadata": {},
   "outputs": [
    {
     "data": {
      "text/plain": [
       "Age             55\n",
       "HoursPerWeek    56\n",
       "TotalHours      57\n",
       "dtype: int64"
      ]
     },
     "execution_count": 7,
     "metadata": {},
     "output_type": "execute_result"
    }
   ],
   "source": [
    "# Though there were no None values in the dataset, closer inspection reveals missing values marked with \"?\"\n",
    "# Convert the object-variables to numeric and set the missing values to None\n",
    "def convert_to_numeric(series):\n",
    "    series = series.apply(lambda x: None if x == \"?\" else x)\n",
    "    series = pd.to_numeric(series)\n",
    "    return series\n",
    "\n",
    "columns = [\"Age\", \"HoursPerWeek\", \"TotalHours\"]\n",
    "for col in columns:\n",
    "    df[col] = convert_to_numeric(df[col])\n",
    "\n",
    "df.loc[:, columns].apply(pd.isnull).sum()"
   ]
  },
  {
   "cell_type": "code",
   "execution_count": 8,
   "metadata": {},
   "outputs": [
    {
     "data": {
      "text/plain": [
       "LeagueIndex             1.000000\n",
       "Age                    -0.127825\n",
       "HoursPerWeek            0.217976\n",
       "TotalHours              0.023884\n",
       "APM                     0.662309\n",
       "SelectByHotkeys         0.490599\n",
       "AssignToHotkeys         0.531125\n",
       "UniqueHotkeys           0.351213\n",
       "MinimapAttacks          0.312544\n",
       "MinimapRightClicks      0.233231\n",
       "NumberOfPACs            0.612192\n",
       "GapBetweenPACs         -0.553246\n",
       "ActionLatency          -0.673939\n",
       "ActionsInPAC            0.143121\n",
       "TotalMapExplored        0.220676\n",
       "WorkersMade             0.295643\n",
       "UniqueUnitsMade         0.133508\n",
       "ComplexUnitsMade        0.148834\n",
       "ComplexAbilitiesUsed    0.145733\n",
       "Name: LeagueIndex, dtype: float64"
      ]
     },
     "execution_count": 8,
     "metadata": {},
     "output_type": "execute_result"
    }
   ],
   "source": [
    "# Let's see if any predictors show a strong correlation with the response variable.\n",
    "df.iloc[:,1:].corr().loc[\"LeagueIndex\",:]"
   ]
  },
  {
   "cell_type": "code",
   "execution_count": 9,
   "metadata": {},
   "outputs": [],
   "source": [
    "# Throw out the rows with missing values\n",
    "df_clean = df.dropna()\n",
    "\n",
    "# Split the data into train and test set\n",
    "train, test = train_test_split(df_clean, train_size=0.7)\n",
    "\n",
    "# Select predictors that correlate with the response variable\n",
    "predictors = [\"APM\", \"SelectByHotkeys\", \"AssignToHotkeys\", \"GapBetweenPACs\", \"NumberOfPACs\", \"ActionLatency\", \"WorkersMade\", \"MinimapAttacks\"]"
   ]
  },
  {
   "cell_type": "code",
   "execution_count": 10,
   "metadata": {},
   "outputs": [],
   "source": [
    "def print_confusion_matrix(cm):\n",
    "    plt.figure(figsize=(10,10))\n",
    "    ax = plt.subplot()\n",
    "    sns.heatmap(cm, annot=True)\n",
    "    ax.set_title(\"Confusion Matrix\")\n",
    "    ax.set_xlabel(\"Predicted label\")\n",
    "    ax.set_ylabel(\"True label\")\n",
    "    plt.show()\n",
    "\n",
    "def fit_model(model, plot=True):\n",
    "    fit = model.fit(train[predictors], train[\"LeagueIndex\"])\n",
    "    pred = fit.predict(test[predictors])\n",
    "    \n",
    "    acc = (pred == test[\"LeagueIndex\"]).mean()\n",
    "    if plot:\n",
    "        cm = confusion_matrix(test[\"LeagueIndex\"], pred)\n",
    "        print_confusion_matrix(cm)\n",
    "    return acc"
   ]
  },
  {
   "cell_type": "code",
   "execution_count": 11,
   "metadata": {},
   "outputs": [
    {
     "data": {
      "image/png": "[encoded data removed]",
      "text/plain": [
       "<Figure size 720x720 with 1 Axes>"
      ]
     },
     "metadata": {
      "needs_background": "light"
     },
     "output_type": "display_data"
    }
   ],
   "source": [
    "# Let's see how the accuracy varies by the number of neighbors k\n",
    "ks = np.arange(1, 200, 1)\n",
    "accuracy_scores = [fit_model(KNeighborsClassifier(n_neighbors=k, weights=\"uniform\"), plot=False) for k in ks]\n",
    "\n",
    "\n",
    "\n",
    "fig = plt.figure(figsize=(10,10))\n",
    "ax = fig.add_subplot(111)\n",
    "plt.plot(ks, accuracy_scores, 'bo')\n",
    "ax.set_xlabel(\"k\")\n",
    "ax.set_ylabel(\"Accuracy\")\n",
    "plt.show()"
   ]
  },
  {
   "cell_type": "code",
   "execution_count": 12,
   "metadata": {},
   "outputs": [
    {
     "data": {
      "image/png": "[encoded data removed]",
      "text/plain": [
       "<Figure size 720x720 with 2 Axes>"
      ]
     },
     "metadata": {
      "needs_background": "light"
     },
     "output_type": "display_data"
    },
    {
     "data": {
      "text/plain": [
       "0.3582834331337325"
      ]
     },
     "execution_count": 12,
     "metadata": {},
     "output_type": "execute_result"
    }
   ],
   "source": [
    "fit_model(LogisticRegressionCV(solver=\"sag\", multi_class=\"multinomial\", max_iter=200, cv=10))"
   ]
  },
  {
   "cell_type": "code",
   "execution_count": null,
   "metadata": {},
   "outputs": [],
   "source": []
  },
  {
   "cell_type": "code",
   "execution_count": 14,
   "metadata": {},
   "outputs": [],
   "source": [
    "from scipy.cluster import hierarchy\n",
    "from scipy.spatial.distance import pdist\n",
    "\n",
    "distance_mat = pdist(df.loc[:,[\"APM\", \"SelectByHotkeys\"]])"
   ]
  },
  {
   "cell_type": "code",
   "execution_count": 15,
   "metadata": {},
   "outputs": [],
   "source": [
    "Z = hierarchy.linkage(distance_mat, 'single')"
   ]
  },
  {
   "cell_type": "code",
   "execution_count": 17,
   "metadata": {},
   "outputs": [
    {
     "data": {
      "image/png": "[encoded data removed]",
      "text/plain": [
       "<Figure size 864x864 with 1 Axes>"
      ]
     },
     "metadata": {
      "needs_background": "light"
     },
     "output_type": "display_data"
    }
   ],
   "source": [
    "plt.figure(figsize=(12,12))\n",
    "dn = hierarchy.dendrogram(Z, color_threshold=0.5)"
   ]
  },
  {
   "cell_type": "code",
   "execution_count": null,
   "metadata": {},
   "outputs": [],
   "source": []
  },
  {
   "cell_type": "code",
   "execution_count": null,
   "metadata": {},
   "outputs": [],
   "source": []
  },
  {
   "cell_type": "code",
   "execution_count": null,
   "metadata": {},
   "outputs": [],
   "source": []
  },
  {
   "cell_type": "code",
   "execution_count": null,
   "metadata": {},
   "outputs": [],
   "source": []
  },
  {
   "cell_type": "code",
   "execution_count": null,
   "metadata": {},
   "outputs": [],
   "source": []
  },
  {
   "cell_type": "code",
   "execution_count": null,
   "metadata": {},
   "outputs": [],
   "source": []
  },
  {
   "cell_type": "code",
   "execution_count": null,
   "metadata": {},
   "outputs": [],
   "source": []
  },
  {
   "cell_type": "code",
   "execution_count": null,
   "metadata": {},
   "outputs": [],
   "source": []
  },
  {
   "cell_type": "code",
   "execution_count": null,
   "metadata": {},
   "outputs": [],
   "source": []
  },
  {
   "cell_type": "code",
   "execution_count": null,
   "metadata": {},
   "outputs": [],
   "source": []
  },
  {
   "cell_type": "code",
   "execution_count": null,
   "metadata": {},
   "outputs": [],
   "source": []
  }
 ],
 "metadata": {
  "kernelspec": {
   "display_name": "Python 3",
   "language": "python",
   "name": "python3"
  },
  "language_info": {
   "codemirror_mode": {
    "name": "ipython",
    "version": 3
   },
   "file_extension": ".py",
   "mimetype": "text/x-python",
   "name": "python",
   "nbconvert_exporter": "python",
   "pygments_lexer": "ipython3",
   "version": "3.7.4"
  }
 },
 "nbformat": 4,
 "nbformat_minor": 4
}
